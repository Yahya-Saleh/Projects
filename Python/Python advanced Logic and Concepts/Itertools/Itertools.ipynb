{
 "metadata": {
  "language_info": {
   "codemirror_mode": {
    "name": "ipython",
    "version": 3
   },
   "file_extension": ".py",
   "mimetype": "text/x-python",
   "name": "python",
   "nbconvert_exporter": "python",
   "pygments_lexer": "ipython3",
   "version": "3.8.4-final"
  },
  "orig_nbformat": 2,
  "kernelspec": {
   "name": "python_defaultSpec_1598169067726",
   "display_name": "Python 3.8.4 64-bit"
  }
 },
 "nbformat": 4,
 "nbformat_minor": 2,
 "cells": [
  {
   "cell_type": "markdown",
   "metadata": {},
   "source": [
    "# Itertools\n",
    "\n",
    "A collection of tools that allows us to work with iterators in a fast and memory efficient way.\n",
    "\n",
    "- [Count](#count): Returns an iterator starting at 0 and gets iterated by 1 everytime.\n",
    "\n",
    "- [Zip Longest](#Zip_Longest): Much like the zip function except that zip stops when the shortest iterable ends, and zip_longest stops after the longest iterable ends filling in the missing value for the short iterable - usually with None.\n",
    "\n",
    "- [Cycle](#Cycle): Takes in an iterable and cycles through it, starting from the beginning again once exhausted.\n",
    "\n",
    "- [Repeat](#Repeat): Repeats a give value for each iteration. You can set how many times you wnt it to repeat.\n",
    "\n",
    "- [StarMap](#StarMap): Like the map function but instead of taking in two iterables it takes in one iterable that has a pair of values.\n",
    "\n",
    "- [Combinations and permutations](#Combinations-and-Permutations)\n",
    "    - Combinations\n",
    "        - all the possible combinations where order doesn't matter.\n",
    "\n",
    "    - Permutations\n",
    "        - all the possible combinations where order does matter.\n",
    "\n",
    "- [Product](Product): Is the permutation of list, but values can repeat.\n",
    "\n",
    "- [Combinations with replacetment](#combinations_with_replacement): Similar to combinations, but it allows for repetation.\n",
    "\n",
    "- [Chain](#Chain): Let's us combine iterators and/or iterables in an effiecent way. Which we otherwise don't have a way to combine iterators.\n",
    "\n",
    "- [islice](#islice): Allows us to perform slicing on iterators and/or iterables.\n",
    "\n",
    "- [compress](#compress): Much like the filter function, that takes in an iterable and a function and returns the values that returned true from the function, however, the truth table is based as an iterable instead of a function.\n",
    "\n",
    "- [filterfalse](#filterfalse): Much like filter but it returns the values that return false.\n",
    "\n",
    "- [DropWhile](#DropWhile): Has the same parameters as filter but it drops every value that returns true until it finds one that returns false and returns it along with rest of the values after it.\n",
    "\n",
    "- [TakeWhile](#TakeWhile): Much like Dropwhile, but it keeps going until it meets a value that returns false. At this point it returns all of the values it passed by, which all returned true.\n",
    "\n",
    "- [Accumulate](#Accumulate): Accumaltes the values as it sees them through iteration. By default it will add them up, but we can specifiy anyother mathematical calculation.\n",
    "\n",
    "- [Groupby](#Groupby): Much like the groupby of SQL, it groups the values by a given key. But it needs the values to be sorted.\n",
    "\n",
    "- [tee](#tee): Allows us to replicate iterators, however, you can't iterator through the original or you'll exhaust the copies as well."
   ]
  },
  {
   "cell_type": "code",
   "execution_count": 1,
   "metadata": {},
   "outputs": [],
   "source": [
    "# Available in the python standard library\n",
    "import itertools"
   ]
  },
  {
   "cell_type": "markdown",
   "metadata": {},
   "source": [
    "---\n",
    "\n",
    "## Count"
   ]
  },
  {
   "cell_type": "code",
   "execution_count": 2,
   "metadata": {
    "tags": []
   },
   "outputs": [
    {
     "output_type": "stream",
     "name": "stdout",
     "text": "0\n1\n2\n"
    }
   ],
   "source": [
    "# Returns an iterator starting at 0 and gets iterated by 1 everytime\n",
    "counter = itertools.count()\n",
    "\n",
    "# Recall the next dunder method\n",
    "print(next(counter))\n",
    "print(next(counter))\n",
    "print(next(counter))"
   ]
  },
  {
   "cell_type": "markdown",
   "metadata": {},
   "source": [
    "If we were to iterate through this iterator in a for loop, though, we would get an infinite loop, since count function was not passed an ending point."
   ]
  },
  {
   "cell_type": "markdown",
   "metadata": {},
   "source": [
    "### Application\n",
    "\n",
    "This count function would be useful if we wanted to assign an index value to a list, for example, but we don't know how long the list would be."
   ]
  },
  {
   "cell_type": "code",
   "execution_count": 3,
   "metadata": {
    "tags": []
   },
   "outputs": [
    {
     "output_type": "stream",
     "name": "stdout",
     "text": "[(0, 'day 0'), (1, 'day 1'), (2, 'day 2'), (3, 'day 3'), (4, 'day 4')]\n"
    }
   ],
   "source": [
    "data = [\"day 0\", \"day 1\", \"day 2\", \"day 3\", \"day 4\"]\n",
    "\n",
    "# Recall the zip function?\n",
    "daily_data = zip(itertools.count(), data)\n",
    "\n",
    "print(list(daily_data))"
   ]
  },
  {
   "cell_type": "code",
   "execution_count": 4,
   "metadata": {
    "tags": []
   },
   "outputs": [
    {
     "output_type": "stream",
     "name": "stdout",
     "text": "5\n10\n15\n"
    }
   ],
   "source": [
    "# We can pass arguements to the count function\n",
    "counter = itertools.count(start=5, step=5)\n",
    "\n",
    "print(next(counter))\n",
    "print(next(counter))\n",
    "print(next(counter))"
   ]
  },
  {
   "cell_type": "code",
   "execution_count": 5,
   "metadata": {
    "tags": []
   },
   "outputs": [
    {
     "output_type": "stream",
     "name": "stdout",
     "text": "5\n2.5\n0.0\n"
    }
   ],
   "source": [
    "# Count can also count backwards and by decimal\n",
    "counter = itertools.count(start=5, step=-2.5)\n",
    "\n",
    "print(next(counter))\n",
    "print(next(counter))\n",
    "print(next(counter))"
   ]
  },
  {
   "cell_type": "markdown",
   "metadata": {},
   "source": [
    "---\n",
    "\n",
    "## Zip_longest\n",
    "\n",
    "Much like the zip function except that zip stops when the shortest iterable ends, and zip_longest stops after the longest iterable ends filling in the missing value for the short iterable - usually with `None`."
   ]
  },
  {
   "cell_type": "code",
   "execution_count": 6,
   "metadata": {
    "tags": []
   },
   "outputs": [
    {
     "output_type": "stream",
     "name": "stdout",
     "text": "zip: [(0, 'day 0'), (1, 'day 1'), (2, 'day 2'), (3, 'day 3'), (4, 'day 4')]\nzip Longest: [(0, 'day 0'), (1, 'day 1'), (2, 'day 2'), (3, 'day 3'), (4, 'day 4'), (5, None), (6, None), (7, None), (8, None), (9, None)]\n"
    }
   ],
   "source": [
    "data = [\"day 0\", \"day 1\", \"day 2\", \"day 3\", \"day 4\"]\n",
    "\n",
    "\n",
    "zip_data = zip(range(10), data)\n",
    "zip_longest_data = itertools.zip_longest(range(10), data)\n",
    "\n",
    "print(f\"zip: {list(zip_data)}\")\n",
    "print(f\"zip Longest: {list(zip_longest_data)}\")"
   ]
  },
  {
   "cell_type": "markdown",
   "metadata": {},
   "source": [
    "---\n",
    "\n",
    "## Cycle\n",
    "\n",
    "Takes in an iterable and cycles through it, starting from the beginning again once exhausted."
   ]
  },
  {
   "cell_type": "code",
   "execution_count": 7,
   "metadata": {
    "tags": []
   },
   "outputs": [
    {
     "output_type": "stream",
     "name": "stdout",
     "text": "0\n1\n2\n0\n1\n2\n"
    }
   ],
   "source": [
    "cycle = itertools.cycle(range(3))\n",
    "\n",
    "print(next(cycle))\n",
    "print(next(cycle))\n",
    "print(next(cycle))\n",
    "print(next(cycle))\n",
    "print(next(cycle))\n",
    "print(next(cycle))"
   ]
  },
  {
   "cell_type": "code",
   "execution_count": 8,
   "metadata": {
    "tags": []
   },
   "outputs": [
    {
     "output_type": "stream",
     "name": "stdout",
     "text": "on\nOff\non\nOff\non\nOff\n"
    }
   ],
   "source": [
    "light = itertools.cycle((\"on\", \"Off\"))\n",
    "\n",
    "print(next(light))\n",
    "print(next(light))\n",
    "print(next(light))\n",
    "print(next(light))\n",
    "print(next(light))\n",
    "print(next(light))"
   ]
  },
  {
   "cell_type": "markdown",
   "metadata": {},
   "source": [
    "---\n",
    "\n",
    "## Repeat\n",
    "\n",
    "Repeats a give value for each iteration. You can set how many times you wnt it to repeat."
   ]
  },
  {
   "cell_type": "code",
   "execution_count": 9,
   "metadata": {
    "tags": []
   },
   "outputs": [
    {
     "output_type": "stream",
     "name": "stdout",
     "text": "7\n7\n7\n('on', 'Off')\n('on', 'Off')\n('on', 'Off')\n"
    }
   ],
   "source": [
    "# Repeat indefintly\n",
    "repeat = itertools.repeat(7)\n",
    "\n",
    "print(next(repeat))\n",
    "print(next(repeat))\n",
    "print(next(repeat))\n",
    "\n",
    "# Repeat indefintly\n",
    "repeat = itertools.repeat((\"on\", \"Off\"))\n",
    "\n",
    "print(next(repeat))\n",
    "print(next(repeat))\n",
    "print(next(repeat))"
   ]
  },
  {
   "cell_type": "code",
   "execution_count": 10,
   "metadata": {
    "tags": []
   },
   "outputs": [
    {
     "output_type": "stream",
     "name": "stdout",
     "text": "7\n7\n"
    }
   ],
   "source": [
    "# Repeat for a given number of times\n",
    "repeat = itertools.repeat(7, times=2)\n",
    "\n",
    "print(next(repeat))\n",
    "print(next(repeat))"
   ]
  },
  {
   "cell_type": "code",
   "execution_count": 11,
   "metadata": {},
   "outputs": [
    {
     "output_type": "error",
     "ename": "StopIteration",
     "evalue": "",
     "traceback": [
      "\u001b[1;31m---------------------------------------------------------------------------\u001b[0m",
      "\u001b[1;31mStopIteration\u001b[0m                             Traceback (most recent call last)",
      "\u001b[1;32m<ipython-input-11-44d5a73507b3>\u001b[0m in \u001b[0;36m<module>\u001b[1;34m\u001b[0m\n\u001b[1;32m----> 1\u001b[1;33m \u001b[0mprint\u001b[0m\u001b[1;33m(\u001b[0m\u001b[0mnext\u001b[0m\u001b[1;33m(\u001b[0m\u001b[0mrepeat\u001b[0m\u001b[1;33m)\u001b[0m\u001b[1;33m)\u001b[0m\u001b[1;33m\u001b[0m\u001b[1;33m\u001b[0m\u001b[0m\n\u001b[0m",
      "\u001b[1;31mStopIteration\u001b[0m: "
     ]
    }
   ],
   "source": [
    "print(next(repeat))"
   ]
  },
  {
   "cell_type": "markdown",
   "metadata": {},
   "source": [
    "This function is commondly used when you use `map()` or `zip()` and want to use the same value."
   ]
  },
  {
   "cell_type": "code",
   "execution_count": 12,
   "metadata": {
    "tags": []
   },
   "outputs": [
    {
     "output_type": "stream",
     "name": "stdout",
     "text": "[0, 1, 4, 9, 16, 25, 36, 49, 64, 81]\n"
    }
   ],
   "source": [
    "# Using the pow function, which takes in two arguemnts: a number and a power,\n",
    "# We can map all the values in the range(10) to 2\n",
    "power = map(pow, range(10), itertools.repeat(2))\n",
    "\n",
    "print(list(power))"
   ]
  },
  {
   "cell_type": "markdown",
   "metadata": {},
   "source": [
    "---\n",
    "\n",
    "## StarMap\n",
    "\n",
    "Like the map function but instead of taking in two iterables it takes in one iterable that has a pair of values."
   ]
  },
  {
   "cell_type": "code",
   "execution_count": 13,
   "metadata": {
    "tags": []
   },
   "outputs": [
    {
     "output_type": "stream",
     "name": "stdout",
     "text": "[0, 1, 4]\n"
    }
   ],
   "source": [
    "power = itertools.starmap(pow, [(0, 2), (1, 2), (2, 2)])\n",
    "\n",
    "print(list(power))"
   ]
  },
  {
   "cell_type": "markdown",
   "metadata": {},
   "source": [
    "---\n",
    "\n",
    "## Combinations and Permutations\n",
    "\n",
    "### Combinations\n",
    "\n",
    "all the possible combinations where order doesn't matter.\n",
    "\n",
    "### Permutations\n",
    "all the possible combinations where order does matter."
   ]
  },
  {
   "cell_type": "code",
   "execution_count": 14,
   "metadata": {
    "tags": []
   },
   "outputs": [
    {
     "output_type": "stream",
     "name": "stdout",
     "text": "('a', 'b')\n('a', 'c')\n('a', 'd')\n('b', 'c')\n('b', 'd')\n('c', 'd')\n"
    }
   ],
   "source": [
    "letters = ['a', 'b', 'c', 'd']\n",
    "\n",
    "# A list of all possible combinations of 2\n",
    "for pair in itertools.combinations(letters, 2):\n",
    "    print(pair)"
   ]
  },
  {
   "cell_type": "code",
   "execution_count": 15,
   "metadata": {
    "tags": []
   },
   "outputs": [
    {
     "output_type": "stream",
     "name": "stdout",
     "text": "('a', 'b')\n('a', 'c')\n('a', 'd')\n('b', 'a')\n('b', 'c')\n('b', 'd')\n('c', 'a')\n('c', 'b')\n('c', 'd')\n('d', 'a')\n('d', 'b')\n('d', 'c')\n"
    }
   ],
   "source": [
    "# A list of all possible permutations of 2\n",
    "for pair in itertools.permutations(letters, 2):\n",
    "    print(pair)"
   ]
  },
  {
   "cell_type": "markdown",
   "metadata": {},
   "source": [
    "---\n",
    "\n",
    "## Product\n",
    "\n",
    "Is the permutation of list, but values can repeat."
   ]
  },
  {
   "cell_type": "code",
   "execution_count": 16,
   "metadata": {
    "tags": []
   },
   "outputs": [
    {
     "output_type": "stream",
     "name": "stdout",
     "text": "('a', 'a')\n('a', 'b')\n('a', 'c')\n('a', 'd')\n('b', 'a')\n('b', 'b')\n('b', 'c')\n('b', 'd')\n('c', 'a')\n('c', 'b')\n('c', 'c')\n('c', 'd')\n('d', 'a')\n('d', 'b')\n('d', 'c')\n('d', 'd')\n"
    }
   ],
   "source": [
    "# A pair of all possible permutations where repetition is allowed\n",
    "for pair in itertools.product(letters, repeat=2):\n",
    "    print(pair)"
   ]
  },
  {
   "cell_type": "markdown",
   "metadata": {},
   "source": [
    "This can be used to generate all the possible number permutations available."
   ]
  },
  {
   "cell_type": "code",
   "execution_count": 17,
   "metadata": {
    "tags": []
   },
   "outputs": [
    {
     "output_type": "stream",
     "name": "stdout",
     "text": "(0, 0, 0, 0)\n(0, 0, 0, 1)\n(0, 0, 0, 2)\n(0, 0, 0, 3)\n(0, 0, 1, 0)\n(0, 0, 1, 1)\n(0, 0, 1, 2)\n(0, 0, 1, 3)\n(0, 0, 2, 0)\n(0, 0, 2, 1)\n(0, 0, 2, 2)\n(0, 0, 2, 3)\n(0, 0, 3, 0)\n(0, 0, 3, 1)\n(0, 0, 3, 2)\n(0, 0, 3, 3)\n(0, 1, 0, 0)\n(0, 1, 0, 1)\n(0, 1, 0, 2)\n(0, 1, 0, 3)\n(0, 1, 1, 0)\n(0, 1, 1, 1)\n(0, 1, 1, 2)\n(0, 1, 1, 3)\n(0, 1, 2, 0)\n(0, 1, 2, 1)\n(0, 1, 2, 2)\n(0, 1, 2, 3)\n(0, 1, 3, 0)\n(0, 1, 3, 1)\n(0, 1, 3, 2)\n(0, 1, 3, 3)\n(0, 2, 0, 0)\n(0, 2, 0, 1)\n(0, 2, 0, 2)\n(0, 2, 0, 3)\n(0, 2, 1, 0)\n(0, 2, 1, 1)\n(0, 2, 1, 2)\n(0, 2, 1, 3)\n(0, 2, 2, 0)\n(0, 2, 2, 1)\n(0, 2, 2, 2)\n(0, 2, 2, 3)\n(0, 2, 3, 0)\n(0, 2, 3, 1)\n(0, 2, 3, 2)\n(0, 2, 3, 3)\n(0, 3, 0, 0)\n(0, 3, 0, 1)\n(0, 3, 0, 2)\n(0, 3, 0, 3)\n(0, 3, 1, 0)\n(0, 3, 1, 1)\n(0, 3, 1, 2)\n(0, 3, 1, 3)\n(0, 3, 2, 0)\n(0, 3, 2, 1)\n(0, 3, 2, 2)\n(0, 3, 2, 3)\n(0, 3, 3, 0)\n(0, 3, 3, 1)\n(0, 3, 3, 2)\n(0, 3, 3, 3)\n(1, 0, 0, 0)\n(1, 0, 0, 1)\n(1, 0, 0, 2)\n(1, 0, 0, 3)\n(1, 0, 1, 0)\n(1, 0, 1, 1)\n(1, 0, 1, 2)\n(1, 0, 1, 3)\n(1, 0, 2, 0)\n(1, 0, 2, 1)\n(1, 0, 2, 2)\n(1, 0, 2, 3)\n(1, 0, 3, 0)\n(1, 0, 3, 1)\n(1, 0, 3, 2)\n(1, 0, 3, 3)\n(1, 1, 0, 0)\n(1, 1, 0, 1)\n(1, 1, 0, 2)\n(1, 1, 0, 3)\n(1, 1, 1, 0)\n(1, 1, 1, 1)\n(1, 1, 1, 2)\n(1, 1, 1, 3)\n(1, 1, 2, 0)\n(1, 1, 2, 1)\n(1, 1, 2, 2)\n(1, 1, 2, 3)\n(1, 1, 3, 0)\n(1, 1, 3, 1)\n(1, 1, 3, 2)\n(1, 1, 3, 3)\n(1, 2, 0, 0)\n(1, 2, 0, 1)\n(1, 2, 0, 2)\n(1, 2, 0, 3)\n(1, 2, 1, 0)\n(1, 2, 1, 1)\n(1, 2, 1, 2)\n(1, 2, 1, 3)\n(1, 2, 2, 0)\n(1, 2, 2, 1)\n(1, 2, 2, 2)\n(1, 2, 2, 3)\n(1, 2, 3, 0)\n(1, 2, 3, 1)\n(1, 2, 3, 2)\n(1, 2, 3, 3)\n(1, 3, 0, 0)\n(1, 3, 0, 1)\n(1, 3, 0, 2)\n(1, 3, 0, 3)\n(1, 3, 1, 0)\n(1, 3, 1, 1)\n(1, 3, 1, 2)\n(1, 3, 1, 3)\n(1, 3, 2, 0)\n(1, 3, 2, 1)\n(1, 3, 2, 2)\n(1, 3, 2, 3)\n(1, 3, 3, 0)\n(1, 3, 3, 1)\n(1, 3, 3, 2)\n(1, 3, 3, 3)\n(2, 0, 0, 0)\n(2, 0, 0, 1)\n(2, 0, 0, 2)\n(2, 0, 0, 3)\n(2, 0, 1, 0)\n(2, 0, 1, 1)\n(2, 0, 1, 2)\n(2, 0, 1, 3)\n(2, 0, 2, 0)\n(2, 0, 2, 1)\n(2, 0, 2, 2)\n(2, 0, 2, 3)\n(2, 0, 3, 0)\n(2, 0, 3, 1)\n(2, 0, 3, 2)\n(2, 0, 3, 3)\n(2, 1, 0, 0)\n(2, 1, 0, 1)\n(2, 1, 0, 2)\n(2, 1, 0, 3)\n(2, 1, 1, 0)\n(2, 1, 1, 1)\n(2, 1, 1, 2)\n(2, 1, 1, 3)\n(2, 1, 2, 0)\n(2, 1, 2, 1)\n(2, 1, 2, 2)\n(2, 1, 2, 3)\n(2, 1, 3, 0)\n(2, 1, 3, 1)\n(2, 1, 3, 2)\n(2, 1, 3, 3)\n(2, 2, 0, 0)\n(2, 2, 0, 1)\n(2, 2, 0, 2)\n(2, 2, 0, 3)\n(2, 2, 1, 0)\n(2, 2, 1, 1)\n(2, 2, 1, 2)\n(2, 2, 1, 3)\n(2, 2, 2, 0)\n(2, 2, 2, 1)\n(2, 2, 2, 2)\n(2, 2, 2, 3)\n(2, 2, 3, 0)\n(2, 2, 3, 1)\n(2, 2, 3, 2)\n(2, 2, 3, 3)\n(2, 3, 0, 0)\n(2, 3, 0, 1)\n(2, 3, 0, 2)\n(2, 3, 0, 3)\n(2, 3, 1, 0)\n(2, 3, 1, 1)\n(2, 3, 1, 2)\n(2, 3, 1, 3)\n(2, 3, 2, 0)\n(2, 3, 2, 1)\n(2, 3, 2, 2)\n(2, 3, 2, 3)\n(2, 3, 3, 0)\n(2, 3, 3, 1)\n(2, 3, 3, 2)\n(2, 3, 3, 3)\n(3, 0, 0, 0)\n(3, 0, 0, 1)\n(3, 0, 0, 2)\n(3, 0, 0, 3)\n(3, 0, 1, 0)\n(3, 0, 1, 1)\n(3, 0, 1, 2)\n(3, 0, 1, 3)\n(3, 0, 2, 0)\n(3, 0, 2, 1)\n(3, 0, 2, 2)\n(3, 0, 2, 3)\n(3, 0, 3, 0)\n(3, 0, 3, 1)\n(3, 0, 3, 2)\n(3, 0, 3, 3)\n(3, 1, 0, 0)\n(3, 1, 0, 1)\n(3, 1, 0, 2)\n(3, 1, 0, 3)\n(3, 1, 1, 0)\n(3, 1, 1, 1)\n(3, 1, 1, 2)\n(3, 1, 1, 3)\n(3, 1, 2, 0)\n(3, 1, 2, 1)\n(3, 1, 2, 2)\n(3, 1, 2, 3)\n(3, 1, 3, 0)\n(3, 1, 3, 1)\n(3, 1, 3, 2)\n(3, 1, 3, 3)\n(3, 2, 0, 0)\n(3, 2, 0, 1)\n(3, 2, 0, 2)\n(3, 2, 0, 3)\n(3, 2, 1, 0)\n(3, 2, 1, 1)\n(3, 2, 1, 2)\n(3, 2, 1, 3)\n(3, 2, 2, 0)\n(3, 2, 2, 1)\n(3, 2, 2, 2)\n(3, 2, 2, 3)\n(3, 2, 3, 0)\n(3, 2, 3, 1)\n(3, 2, 3, 2)\n(3, 2, 3, 3)\n(3, 3, 0, 0)\n(3, 3, 0, 1)\n(3, 3, 0, 2)\n(3, 3, 0, 3)\n(3, 3, 1, 0)\n(3, 3, 1, 1)\n(3, 3, 1, 2)\n(3, 3, 1, 3)\n(3, 3, 2, 0)\n(3, 3, 2, 1)\n(3, 3, 2, 2)\n(3, 3, 2, 3)\n(3, 3, 3, 0)\n(3, 3, 3, 1)\n(3, 3, 3, 2)\n(3, 3, 3, 3)\n"
    }
   ],
   "source": [
    "numbers = [0, 1, 2, 3]\n",
    "\n",
    "for code in itertools.product(numbers, repeat=4):\n",
    "    print(code)"
   ]
  },
  {
   "cell_type": "markdown",
   "metadata": {},
   "source": [
    "---\n",
    "\n",
    "## Combinations_with_replacement\n",
    "\n",
    "Similar to combinations, but it allows for repetation."
   ]
  },
  {
   "cell_type": "code",
   "execution_count": 18,
   "metadata": {
    "tags": []
   },
   "outputs": [
    {
     "output_type": "stream",
     "name": "stdout",
     "text": "('a', 'a')\n('a', 'b')\n('a', 'c')\n('a', 'd')\n('b', 'b')\n('b', 'c')\n('b', 'd')\n('c', 'c')\n('c', 'd')\n('d', 'd')\n"
    }
   ],
   "source": [
    "for pair in itertools.combinations_with_replacement(letters, 2):\n",
    "    print(pair)"
   ]
  },
  {
   "cell_type": "markdown",
   "metadata": {},
   "source": [
    "---\n",
    "\n",
    "## Chain\n",
    "\n",
    "Let's us combine iterators and/or iterables in an effiecent way. Which we otherwise don't have a way to combine iterators."
   ]
  },
  {
   "cell_type": "code",
   "execution_count": 19,
   "metadata": {
    "tags": []
   },
   "outputs": [
    {
     "output_type": "stream",
     "name": "stdout",
     "text": "a\nb\nc\nd\n0\n1\n2\n3\nYahya\nSaleh\n"
    }
   ],
   "source": [
    "letters = ['a', 'b', 'c', 'd']\n",
    "numbers = [0, 1, 2, 3]\n",
    "names = ['Yahya', 'Saleh']\n",
    "\n",
    "loop = itertools.chain(letters, numbers, names)\n",
    "\n",
    "for i in loop:\n",
    "    print(i)"
   ]
  },
  {
   "cell_type": "markdown",
   "metadata": {},
   "source": [
    "> Note how it looped over them in order"
   ]
  },
  {
   "cell_type": "markdown",
   "metadata": {},
   "source": [
    "---\n",
    "\n",
    "## islice\n",
    "\n",
    "Allows us to perform slicing on iterators and/or iterables."
   ]
  },
  {
   "cell_type": "code",
   "execution_count": 20,
   "metadata": {
    "tags": []
   },
   "outputs": [
    {
     "output_type": "stream",
     "name": "stdout",
     "text": "a\nb\nc\nd\ne\n"
    }
   ],
   "source": [
    "letters = ['a', 'b', 'c', 'd', 'e', 'f', 'g']\n",
    "\n",
    "# Slice from the beginning till index 5 exclusive\n",
    "sliced = itertools.islice(letters, 5)\n",
    "\n",
    "for item in sliced:\n",
    "    print(item)"
   ]
  },
  {
   "cell_type": "code",
   "execution_count": 21,
   "metadata": {
    "tags": []
   },
   "outputs": [
    {
     "output_type": "stream",
     "name": "stdout",
     "text": "c\nd\ne\nf\n"
    }
   ],
   "source": [
    "# Slice from index 2 till index 6\n",
    "sliced = itertools.islice(letters, 2, 6)\n",
    "\n",
    "for item in sliced:\n",
    "    print(item)"
   ]
  },
  {
   "cell_type": "code",
   "execution_count": 22,
   "metadata": {
    "tags": []
   },
   "outputs": [
    {
     "output_type": "stream",
     "name": "stdout",
     "text": "c\ne\n"
    }
   ],
   "source": [
    "# Slice from index 2 till index 6 with step 2\n",
    "sliced = itertools.islice(letters, 2, 6, 2)\n",
    "\n",
    "for item in sliced:\n",
    "    print(item)"
   ]
  },
  {
   "cell_type": "markdown",
   "metadata": {},
   "source": [
    "### Application\n",
    "\n",
    "This and other itertools are useful when handling large files. Let's take a file like sample.log for example. If we wanted to just access the first three lines which have the header, we can do so without having to load the entire file.\n",
    "\n",
    "As it turns out files are iterators themselves, and whenever you call next on them you get the next line. So, let's put this knowledge to action."
   ]
  },
  {
   "cell_type": "code",
   "execution_count": 23,
   "metadata": {
    "tags": []
   },
   "outputs": [
    {
     "output_type": "stream",
     "name": "stdout",
     "text": "Date: 2020-8-23\nAuthor: Yahya the amazing\nDescription: This is a sample log file\n"
    }
   ],
   "source": [
    "with open('sample.log') as f:\n",
    "    header = itertools.islice(f, 3)\n",
    "\n",
    "    # We perform the loop in the scope where the file is open\n",
    "    for line in header:\n",
    "        # Since the lines in teh file have '\\n' we don't want print to add a second one\n",
    "        print(line, end='')"
   ]
  },
  {
   "cell_type": "markdown",
   "metadata": {},
   "source": [
    "---\n",
    "\n",
    "## Compress\n",
    "\n",
    "Much like the filter function, that takes in an iterable and a function and returns the values that returned true from the function, however, the truth table is based as an iterable instead of a function.\n",
    "\n",
    "The truth table can the result of filtering some data like keep only the names where age > 18."
   ]
  },
  {
   "cell_type": "markdown",
   "metadata": {},
   "source": [
    "### Filter"
   ]
  },
  {
   "cell_type": "code",
   "execution_count": 26,
   "metadata": {
    "tags": []
   },
   "outputs": [
    {
     "output_type": "stream",
     "name": "stdout",
     "text": "0\n1\n"
    }
   ],
   "source": [
    "# Define a function to filter out values greater than or equal 2\n",
    "def lt_2(n):\n",
    "    if n < 2:\n",
    "        return True\n",
    "    return False\n",
    "\n",
    "numbers = [0, 1, 2, 3]\n",
    "result = filter(lt_2, numbers)\n",
    "\n",
    "for item in result:\n",
    "    print(item)"
   ]
  },
  {
   "cell_type": "markdown",
   "metadata": {},
   "source": [
    "### Compress"
   ]
  },
  {
   "cell_type": "code",
   "execution_count": 28,
   "metadata": {
    "tags": []
   },
   "outputs": [
    {
     "output_type": "stream",
     "name": "stdout",
     "text": "0\n1\n"
    }
   ],
   "source": [
    "selectors = [True, True, False, False]\n",
    "\n",
    "result = itertools.compress(numbers, selectors)\n",
    "\n",
    "for item in result:\n",
    "    print(item)"
   ]
  },
  {
   "cell_type": "markdown",
   "metadata": {},
   "source": [
    "---\n",
    "\n",
    "## FilterFalse\n",
    "\n",
    "Much like filter but it returns the values that return false."
   ]
  },
  {
   "cell_type": "code",
   "execution_count": 29,
   "metadata": {
    "tags": []
   },
   "outputs": [
    {
     "output_type": "stream",
     "name": "stdout",
     "text": "2\n3\n"
    }
   ],
   "source": [
    "result = itertools.filterfalse(lt_2, numbers)\n",
    "\n",
    "for item in result:\n",
    "    print(item)"
   ]
  },
  {
   "cell_type": "code",
   "execution_count": null,
   "metadata": {},
   "outputs": [],
   "source": [
    "---\n",
    "\n",
    "## DropWhile\n",
    "\n",
    "Has the same parameters as filter but it drops every value that returns true until it finds one that returns false and returns it along with rest of the values after it."
   ]
  },
  {
   "cell_type": "code",
   "execution_count": 31,
   "metadata": {
    "tags": []
   },
   "outputs": [
    {
     "output_type": "stream",
     "name": "stdout",
     "text": "2\n3\n2\n1\n0\n"
    }
   ],
   "source": [
    "# Expand numbers to show the difference\n",
    "numbers = [0, 1, 2, 3, 2, 1, 0]\n",
    "\n",
    "result = itertools.dropwhile(lt_2, numbers)\n",
    "\n",
    "for item in result:\n",
    "    print(item)"
   ]
  },
  {
   "cell_type": "markdown",
   "metadata": {},
   "source": [
    "Note how it printed the last 1 and 0, something that filter false wouldn't do."
   ]
  },
  {
   "cell_type": "markdown",
   "metadata": {},
   "source": [
    "## TakeWhile\n",
    "\n",
    "Much like Dropwhile, but it keeps going until it meets a value that returns false. At this point it returns all of the values it passed by, which all returned true. "
   ]
  },
  {
   "cell_type": "code",
   "execution_count": 32,
   "metadata": {
    "tags": []
   },
   "outputs": [
    {
     "output_type": "stream",
     "name": "stdout",
     "text": "0\n1\n"
    }
   ],
   "source": [
    "result = itertools.takewhile(lt_2, numbers)\n",
    "\n",
    "for item in result:\n",
    "    print(item)"
   ]
  },
  {
   "cell_type": "markdown",
   "metadata": {},
   "source": [
    "---\n",
    "\n",
    "## Accumulate\n",
    "\n",
    "Accumulate the values as it sees them through iteration. By default it will add them up, but we can specifiy anyother mathematical calculation."
   ]
  },
  {
   "cell_type": "code",
   "execution_count": 33,
   "metadata": {
    "tags": []
   },
   "outputs": [
    {
     "output_type": "stream",
     "name": "stdout",
     "text": "1\n3\n6\n8\n9\n9\n"
    }
   ],
   "source": [
    "numbers = [1, 2, 3, 2, 1, 0]\n",
    "\n",
    "result = itertools.accumulate(numbers)\n",
    "\n",
    "for item in result:\n",
    "    print(item)"
   ]
  },
  {
   "cell_type": "markdown",
   "metadata": {},
   "source": [
    "Like wise we can accumlate the product."
   ]
  },
  {
   "cell_type": "code",
   "execution_count": 34,
   "metadata": {
    "tags": []
   },
   "outputs": [
    {
     "output_type": "stream",
     "name": "stdout",
     "text": "1\n2\n6\n12\n12\n0\n"
    }
   ],
   "source": [
    "import operator\n",
    "\n",
    "# mul stands for multiplication\n",
    "result = itertools.accumulate(numbers, operator.mul)\n",
    "\n",
    "for item in result:\n",
    "    print(item)"
   ]
  },
  {
   "cell_type": "markdown",
   "metadata": {},
   "source": [
    "---\n",
    "\n",
    "## Groupby\n",
    "\n",
    "Much like the groupby of SQL, it groups the values by a given key. But it needs the values to be sorted."
   ]
  },
  {
   "cell_type": "code",
   "execution_count": 35,
   "metadata": {},
   "outputs": [],
   "source": [
    "people = [\n",
    "    {\n",
    "        'name': 'John Doe',\n",
    "        'city': 'Gotham',\n",
    "        'state': 'NY'\n",
    "    },\n",
    "    {\n",
    "        'name': 'Jane Doe',\n",
    "        'city': 'Kings Landing',\n",
    "        'state': 'NY'\n",
    "    },\n",
    "    {\n",
    "        'name': 'Corey Schafer',\n",
    "        'city': 'Boulder',\n",
    "        'state': 'CO'\n",
    "    },\n",
    "    {\n",
    "        'name': 'Al Einstein',\n",
    "        'city': 'Denver',\n",
    "        'state': 'CO'\n",
    "    },\n",
    "    {\n",
    "        'name': 'John Henry',\n",
    "        'city': 'Hinton',\n",
    "        'state': 'WV'\n",
    "    },\n",
    "    {\n",
    "        'name': 'Randy Moss',\n",
    "        'city': 'Rand',\n",
    "        'state': 'WV'\n",
    "    },\n",
    "    {\n",
    "        'name': 'Nicole K',\n",
    "        'city': 'Asheville',\n",
    "        'state': 'NC'\n",
    "    },\n",
    "    {\n",
    "        'name': 'Jim Doe',\n",
    "        'city': 'Charlotte',\n",
    "        'state': 'NC'\n",
    "    },\n",
    "    {\n",
    "        'name': 'Jane Taylor',\n",
    "        'city': 'Faketown',\n",
    "        'state': 'NC'\n",
    "    }\n",
    "]"
   ]
  },
  {
   "cell_type": "markdown",
   "metadata": {},
   "source": [
    "Assume that we have this list of dictionaries which holds an individual's information, and we want to group people by their state.\n",
    "\n",
    "The first step is to define a function what will take in a person's dictionary and returns the **key**, i.e. the state of the individual."
   ]
  },
  {
   "cell_type": "code",
   "execution_count": 72,
   "metadata": {
    "tags": []
   },
   "outputs": [],
   "source": [
    "def get_state(person):\n",
    "    return person[\"state\"]\n",
    "\n",
    "groups = itertools.groupby(people, get_state)"
   ]
  },
  {
   "cell_type": "code",
   "execution_count": 67,
   "metadata": {
    "tags": []
   },
   "outputs": [
    {
     "output_type": "stream",
     "name": "stdout",
     "text": "NY <itertools._grouper object at 0x00000182983688E0>\nCO <itertools._grouper object at 0x00000182981E34C0>\nWV <itertools._grouper object at 0x000001829807AD00>\nNC <itertools._grouper object at 0x0000018297E13C10>\n"
    }
   ],
   "source": [
    "for key, group in groups:\n",
    "    print(key, group)"
   ]
  },
  {
   "cell_type": "code",
   "execution_count": 60,
   "metadata": {
    "tags": []
   },
   "outputs": [
    {
     "output_type": "stream",
     "name": "stdout",
     "text": "NY\n{'name': 'John Doe', 'city': 'Gotham', 'state': 'NY'}\n{'name': 'Jane Doe', 'city': 'Kings Landing', 'state': 'NY'}\n\nCO\n{'name': 'Corey Schafer', 'city': 'Boulder', 'state': 'CO'}\n{'name': 'Al Einstein', 'city': 'Denver', 'state': 'CO'}\n\nWV\n{'name': 'John Henry', 'city': 'Hinton', 'state': 'WV'}\n{'name': 'Randy Moss', 'city': 'Rand', 'state': 'WV'}\n\nNC\n{'name': 'Nicole K', 'city': 'Asheville', 'state': 'NC'}\n{'name': 'Jim Doe', 'city': 'Charlotte', 'state': 'NC'}\n{'name': 'Jane Taylor', 'city': 'Faketown', 'state': 'NC'}\n\n"
    }
   ],
   "source": [
    "# Let's improve the output\n",
    "for key, group in groups:\n",
    "    print(key)\n",
    "\n",
    "    for person in group:\n",
    "        print(person)\n",
    "\n",
    "    print()"
   ]
  },
  {
   "cell_type": "code",
   "execution_count": 73,
   "metadata": {
    "tags": []
   },
   "outputs": [
    {
     "output_type": "stream",
     "name": "stdout",
     "text": "NY: 2 people\nCO: 2 people\nWV: 2 people\nNC: 3 people\n"
    }
   ],
   "source": [
    "# We can print the number of people in each group\n",
    "for key, group in groups:\n",
    "    print(f\"{key}: {len(list(group))} people\")"
   ]
  },
  {
   "cell_type": "markdown",
   "metadata": {},
   "source": [
    "## Tee\n",
    "\n",
    "allows us to replicate iterators, however, you can't iterator through the original or you'll exhaust the copies as well."
   ]
  },
  {
   "cell_type": "code",
   "execution_count": 75,
   "metadata": {},
   "outputs": [],
   "source": [
    "copy1, copy2 = itertools.tee(groups)"
   ]
  }
 ]
}