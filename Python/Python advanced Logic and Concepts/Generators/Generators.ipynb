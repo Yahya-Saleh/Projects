{
 "metadata": {
  "language_info": {
   "codemirror_mode": {
    "name": "ipython",
    "version": 3
   },
   "file_extension": ".py",
   "mimetype": "text/x-python",
   "name": "python",
   "nbconvert_exporter": "python",
   "pygments_lexer": "ipython3",
   "version": "3.8.4-final"
  },
  "orig_nbformat": 2,
  "kernelspec": {
   "name": "python_defaultSpec_1598149914027",
   "display_name": "Python 3.8.4 64-bit"
  }
 },
 "nbformat": 4,
 "nbformat_minor": 2,
 "cells": [
  {
   "cell_type": "markdown",
   "metadata": {},
   "source": [
    "# Generators\n",
    "\n",
    "Let's take a look at generators: what they are and how they are faster and more effiecent than lists"
   ]
  },
  {
   "cell_type": "code",
   "execution_count": 1,
   "metadata": {},
   "outputs": [],
   "source": [
    "# Define a function to calculate the sequare of each number in the list\n",
    "def seq_num(nums):\n",
    "    result = []\n",
    "    for num in nums:\n",
    "        result.append(num*num)\n",
    "\n",
    "    return result"
   ]
  },
  {
   "cell_type": "code",
   "execution_count": 2,
   "metadata": {
    "tags": []
   },
   "outputs": [
    {
     "output_type": "stream",
     "name": "stdout",
     "text": "[1, 4, 9, 16, 25]\n"
    }
   ],
   "source": [
    "seq_nums = seq_num([1, 2, 3, 4, 5])\n",
    "\n",
    "print(seq_nums)"
   ]
  },
  {
   "cell_type": "code",
   "execution_count": 3,
   "metadata": {},
   "outputs": [],
   "source": [
    "# Let's convert the function into a generator\n",
    "def gen_seq_num(nums):\n",
    "    for num in nums:\n",
    "        yield (num*num)"
   ]
  },
  {
   "cell_type": "markdown",
   "metadata": {},
   "source": [
    "Note the yield key word which is unique for generators. Also note how our function is way shorter this way."
   ]
  },
  {
   "cell_type": "code",
   "execution_count": 4,
   "metadata": {
    "tags": []
   },
   "outputs": [
    {
     "output_type": "stream",
     "name": "stdout",
     "text": "<generator object gen_seq_num at 0x000001ECF473BB30>\n"
    }
   ],
   "source": [
    "seq_nums = gen_seq_num([1, 2, 3, 4, 5])\n",
    "\n",
    "print(seq_nums)"
   ]
  },
  {
   "cell_type": "markdown",
   "metadata": {},
   "source": [
    "This time instead of getting a list we get a point to a generator object. Because generators don't hold the entire result in memory, instead they yield one result at a time. So it is waiting for us to ask for the next result."
   ]
  },
  {
   "cell_type": "code",
   "execution_count": 5,
   "metadata": {
    "tags": []
   },
   "outputs": [
    {
     "output_type": "stream",
     "name": "stdout",
     "text": "1\n"
    }
   ],
   "source": [
    "print(next(seq_nums))"
   ]
  },
  {
   "cell_type": "markdown",
   "metadata": {},
   "source": [
    "Using the built-in next function, which recall from iterator and iterables just invokes the dunder method of the object, we have requested the next value which is the first value in this case."
   ]
  },
  {
   "cell_type": "code",
   "execution_count": 6,
   "metadata": {
    "tags": []
   },
   "outputs": [
    {
     "output_type": "stream",
     "name": "stdout",
     "text": "4\n9\n16\n25\n"
    }
   ],
   "source": [
    "print(next(seq_nums))\n",
    "print(next(seq_nums))\n",
    "print(next(seq_nums))\n",
    "print(next(seq_nums))"
   ]
  },
  {
   "cell_type": "markdown",
   "metadata": {},
   "source": [
    "And much like iterators, if we ask for the next value after we have exhausted all the value we get a `StopIteration Exception`."
   ]
  },
  {
   "cell_type": "code",
   "execution_count": 7,
   "metadata": {},
   "outputs": [
    {
     "output_type": "error",
     "ename": "StopIteration",
     "evalue": "",
     "traceback": [
      "\u001b[1;31m---------------------------------------------------------------------------\u001b[0m",
      "\u001b[1;31mStopIteration\u001b[0m                             Traceback (most recent call last)",
      "\u001b[1;32m<ipython-input-7-303117a7e12f>\u001b[0m in \u001b[0;36m<module>\u001b[1;34m\u001b[0m\n\u001b[1;32m----> 1\u001b[1;33m \u001b[0mprint\u001b[0m\u001b[1;33m(\u001b[0m\u001b[0mnext\u001b[0m\u001b[1;33m(\u001b[0m\u001b[0mseq_nums\u001b[0m\u001b[1;33m)\u001b[0m\u001b[1;33m)\u001b[0m\u001b[1;33m\u001b[0m\u001b[1;33m\u001b[0m\u001b[0m\n\u001b[0m",
      "\u001b[1;31mStopIteration\u001b[0m: "
     ]
    }
   ],
   "source": [
    "print(next(seq_nums))"
   ]
  },
  {
   "cell_type": "code",
   "execution_count": 8,
   "metadata": {
    "tags": []
   },
   "outputs": [
    {
     "output_type": "stream",
     "name": "stdout",
     "text": "1\n4\n9\n16\n25\n"
    }
   ],
   "source": [
    "# The most common use for generators is loop through them\n",
    "my_nums = gen_seq_num([1, 2, 3, 4, 5])\n",
    "for num in my_nums:\n",
    "    print(num)"
   ]
  },
  {
   "cell_type": "markdown",
   "metadata": {},
   "source": [
    "## Generator comprhention"
   ]
  },
  {
   "cell_type": "code",
   "execution_count": 9,
   "metadata": {
    "tags": []
   },
   "outputs": [
    {
     "output_type": "stream",
     "name": "stdout",
     "text": "[1, 4, 9, 16, 25]\n"
    }
   ],
   "source": [
    "# Doing the same thing with a list comprehention\n",
    "seq_nums = [num*num for num in [1, 2, 3, 4, 5]]\n",
    "\n",
    "print(seq_nums)"
   ]
  },
  {
   "cell_type": "code",
   "execution_count": 10,
   "metadata": {
    "tags": []
   },
   "outputs": [
    {
     "output_type": "stream",
     "name": "stdout",
     "text": "<generator object <genexpr> at 0x000001ECF481CF90>\n"
    }
   ],
   "source": [
    "# A generator comprehention would be identical except its in parenthesis\n",
    "gen_seq_nums = (num*num for num in [1, 2, 3, 4, 5])\n",
    "\n",
    "print(gen_seq_nums)"
   ]
  },
  {
   "cell_type": "markdown",
   "metadata": {},
   "source": [
    "## Lists vs Generators\n",
    "\n",
    "1. The generator function is shorter and more readable.\n",
    "\n",
    "1. Memory effiecent.\n",
    "\n",
    "    - Since a generator doesn't hold the entire result in memory.\n",
    "\n",
    "1. Time Effiecent."
   ]
  },
  {
   "cell_type": "markdown",
   "metadata": {},
   "source": [
    "## Viewing the entire result of a generator\n",
    "\n",
    "We can easily see the entire result of a generator by converting it into a list, but this way we'll lose the performance advantages:"
   ]
  },
  {
   "cell_type": "code",
   "execution_count": 11,
   "metadata": {
    "tags": []
   },
   "outputs": [
    {
     "output_type": "stream",
     "name": "stdout",
     "text": "[1, 4, 9, 16, 25]\n"
    }
   ],
   "source": [
    "gen_seq_nums = (num*num for num in [1, 2, 3, 4, 5])\n",
    "\n",
    "print(list(gen_seq_nums))"
   ]
  }
 ]
}