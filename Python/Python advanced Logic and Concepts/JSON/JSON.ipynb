{
 "metadata": {
  "language_info": {
   "codemirror_mode": {
    "name": "ipython",
    "version": 3
   },
   "file_extension": ".py",
   "mimetype": "text/x-python",
   "name": "python",
   "nbconvert_exporter": "python",
   "pygments_lexer": "ipython3",
   "version": "3.8.6-candidate"
  },
  "orig_nbformat": 2,
  "kernelspec": {
   "name": "Python 3.8.6 64-bit",
   "display_name": "Python 3.8.6 64-bit",
   "metadata": {
    "interpreter": {
     "hash": "6d6ca20e611c812ab8f57fa4a0961459dacccc4a61466b0d2a19d36185859e88"
    }
   }
  }
 },
 "nbformat": 4,
 "nbformat_minor": 2,
 "cells": [
  {
   "source": [
    "# JSON\n",
    "\n",
    "**JavaScript Object Notion (JSON)** is a standard file format that was inspired by JavaScript, but is no longer tied to it. The JSON format is very popular for storing and transmitting data objects consisting of attribute–value pairs and array data types (or any other serializable value)."
   ],
   "cell_type": "markdown",
   "metadata": {}
  },
  {
   "cell_type": "code",
   "execution_count": 13,
   "metadata": {},
   "outputs": [],
   "source": [
    "# Python has the JSON module as part of the standard library that allows us to read and manipulate JSON files.\n",
    "import json"
   ]
  },
  {
   "source": [
    "## JSON strings\n",
    "\n",
    "We'll handle some JSON strings to easily illustrate the representation of the JSON file format and the way python converts them."
   ],
   "cell_type": "markdown",
   "metadata": {}
  },
  {
   "cell_type": "code",
   "execution_count": 14,
   "metadata": {},
   "outputs": [],
   "source": [
    "# JSON string\n",
    "people_string = '''{\n",
    "    \"people\": [\n",
    "        {\n",
    "            \"name\": \"Yahya Saleh\",\n",
    "            \"phone\": \"0123456789\",\n",
    "            \"emails\": [\"email1@gmail.com\", \"email2@yahoo.com\"],\n",
    "            \"has_licesense\": true\n",
    "        },\n",
    "        {\n",
    "            \"name\": \"Marco\",\n",
    "            \"phone\": \"987654321\",\n",
    "            \"emails\": null,\n",
    "            \"has_licesense\": false\n",
    "        }\n",
    "    ]\n",
    "}'''"
   ]
  },
  {
   "source": [
    "Notice how null values are represented by `null`, and logical values are represented with a `true` or `false` respectively. Every other representation is reletively similar to python's."
   ],
   "cell_type": "markdown",
   "metadata": {}
  },
  {
   "source": [
    "### Loading JSON strings"
   ],
   "cell_type": "markdown",
   "metadata": {}
  },
  {
   "cell_type": "code",
   "execution_count": 15,
   "metadata": {},
   "outputs": [
    {
     "output_type": "stream",
     "name": "stdout",
     "text": [
      "<class 'dict'>\n{'people': [{'name': 'Yahya Saleh', 'phone': '0123456789', 'emails': ['email1@gmail.com', 'email2@yahoo.com'], 'has_licesense': True}, {'name': 'Marco', 'phone': '987654321', 'emails': None, 'has_licesense': False}]}\n"
     ]
    }
   ],
   "source": [
    "# Load JSON string\n",
    "# loads => laod string\n",
    "string_data = json.loads(people_string)\n",
    "\n",
    "# Python stores JSON data as a dictionary\n",
    "print(type(string_data))\n",
    "print(string_data)"
   ]
  },
  {
   "source": [
    "Notice how the null, and logical values have been substituted with the appropriate python representation. You can check the [JSON encoder and decode](https://docs.python.org/3/library/json.html) for further illustration."
   ],
   "cell_type": "markdown",
   "metadata": {}
  },
  {
   "cell_type": "code",
   "execution_count": 16,
   "metadata": {},
   "outputs": [
    {
     "output_type": "stream",
     "name": "stdout",
     "text": [
      "{'name': 'Yahya Saleh', 'phone': '0123456789', 'emails': ['email1@gmail.com', 'email2@yahoo.com'], 'has_licesense': True}\n{'name': 'Marco', 'phone': '987654321', 'emails': None, 'has_licesense': False}\n"
     ]
    }
   ],
   "source": [
    "# Since the data now is in dictionary form, we can loop over them\n",
    "for person in string_data['people']:\n",
    "    print(person)"
   ]
  },
  {
   "source": [
    "### Dumpings JSON data into a new string"
   ],
   "cell_type": "markdown",
   "metadata": {}
  },
  {
   "cell_type": "code",
   "execution_count": 17,
   "metadata": {},
   "outputs": [
    {
     "output_type": "stream",
     "name": "stdout",
     "text": [
      "{\"people\": [{\"name\": \"Yahya Saleh\", \"emails\": [\"email1@gmail.com\", \"email2@yahoo.com\"], \"has_licesense\": true}, {\"name\": \"Marco\", \"emails\": null, \"has_licesense\": false}]}\n"
     ]
    }
   ],
   "source": [
    "# We can modify our data and then dump it into a new string\n",
    "for person in string_data['people']:\n",
    "    del person['phone']\n",
    "\n",
    "# dumps => dump string\n",
    "new_string = json.dumps(string_data)\n",
    "\n",
    "print(new_string)"
   ]
  },
  {
   "cell_type": "code",
   "execution_count": 18,
   "metadata": {},
   "outputs": [
    {
     "output_type": "stream",
     "name": "stdout",
     "text": [
      "{\n  \"people\": [\n    {\n      \"name\": \"Yahya Saleh\",\n      \"emails\": [\n        \"email1@gmail.com\",\n        \"email2@yahoo.com\"\n      ],\n      \"has_licesense\": true\n    },\n    {\n      \"name\": \"Marco\",\n      \"emails\": null,\n      \"has_licesense\": false\n    }\n  ]\n}\n"
     ]
    }
   ],
   "source": [
    "# We can pass a second arguement to indent our JSON string\n",
    "new_string = json.dumps(string_data, indent=2)\n",
    "\n",
    "print(new_string)"
   ]
  },
  {
   "cell_type": "code",
   "execution_count": 19,
   "metadata": {},
   "outputs": [
    {
     "output_type": "stream",
     "name": "stdout",
     "text": [
      "{\n  \"people\": [\n    {\n      \"emails\": [\n        \"email1@gmail.com\",\n        \"email2@yahoo.com\"\n      ],\n      \"has_licesense\": true,\n      \"name\": \"Yahya Saleh\"\n    },\n    {\n      \"emails\": null,\n      \"has_licesense\": false,\n      \"name\": \"Marco\"\n    }\n  ]\n}\n"
     ]
    }
   ],
   "source": [
    "# We can sort them as well\n",
    "new_string = json.dumps(string_data, indent=2, sort_keys=True)\n",
    "\n",
    "print(new_string)"
   ]
  },
  {
   "source": [
    "## JSON files"
   ],
   "cell_type": "markdown",
   "metadata": {}
  },
  {
   "source": [
    "### Loading JSON data"
   ],
   "cell_type": "markdown",
   "metadata": {}
  },
  {
   "cell_type": "code",
   "execution_count": 20,
   "metadata": {},
   "outputs": [],
   "source": [
    "# Load states.jsons\n",
    "with open(\"states.json\") as f:\n",
    "    data = json.load(f)"
   ]
  },
  {
   "cell_type": "code",
   "execution_count": 21,
   "metadata": {},
   "outputs": [
    {
     "output_type": "stream",
     "name": "stdout",
     "text": [
      "Alabama AL\nAlaska AK\nArizona AZ\nArkansas AR\nCalifornia CA\nColorado CO\nConnecticut CT\nDelaware DE\nFlorida FL\nGeorgia GA\nHawaii HI\nIdaho ID\nIllinois IL\nIndiana IN\nIowa IA\nKansas KS\nKentucky KY\nLouisiana LA\nMaine ME\nMaryland MD\nMassachusetts MA\nMichigan MI\nMinnesota MN\nMississippi MS\nMissouri MO\nMontana MT\nNebraska NE\nNevada NV\nNew Hampshire NH\nNew Jersey NJ\nNew Mexico NM\nNew York NY\nNorth Carolina NC\nNorth Dakota ND\nOhio OH\nOklahoma OK\nOregon OR\nPennsylvania PA\nRhode Island RI\nSouth Carolina SC\nSouth Dakota SD\nTennessee TN\nTexas TX\nUtah UT\nVermont VT\nVirginia VA\nWashington WA\nWest Virginia WV\nWisconsin WI\nWyoming WY\n"
     ]
    }
   ],
   "source": [
    "# Print them\n",
    "for state in data['states']:\n",
    "    print(state['name'], state['abbreviation'])"
   ]
  },
  {
   "source": [
    "### Dumping JSON data"
   ],
   "cell_type": "markdown",
   "metadata": {}
  },
  {
   "cell_type": "code",
   "execution_count": 22,
   "metadata": {},
   "outputs": [],
   "source": [
    "# ALter data\n",
    "for state in data['states']:\n",
    "    del state['area_codes']"
   ]
  },
  {
   "cell_type": "code",
   "execution_count": 23,
   "metadata": {},
   "outputs": [],
   "source": [
    "# Dump the modified data\n",
    "with open('new_states.json', 'w') as f:\n",
    "    json.dump(data, f)"
   ]
  },
  {
   "source": [
    "You'll notice that the file we created is not indented properly. so let's indent it."
   ],
   "cell_type": "markdown",
   "metadata": {}
  },
  {
   "cell_type": "code",
   "execution_count": 24,
   "metadata": {},
   "outputs": [],
   "source": [
    "with open('indented new_states.json', 'w') as f:\n",
    "    json.dump(data, f, indent=2)"
   ]
  },
  {
   "cell_type": "code",
   "execution_count": null,
   "metadata": {},
   "outputs": [],
   "source": []
  }
 ]
}