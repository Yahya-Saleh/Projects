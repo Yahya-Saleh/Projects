{
 "cells": [
  {
   "cell_type": "markdown",
   "metadata": {},
   "source": [
    "# Regular Expressions\n",
    "\n",
    "A regular expression is a sequence of characters that forms a search pattern. When you search for data in a text, you can use this search pattern to describe what you are searching for."
   ]
  },
  {
   "cell_type": "code",
   "execution_count": 23,
   "metadata": {},
   "outputs": [],
   "source": [
    "# Import re to use Regular Expressions in Python\n",
    "import re"
   ]
  },
  {
   "cell_type": "code",
   "execution_count": 24,
   "metadata": {},
   "outputs": [
    {
     "output_type": "stream",
     "name": "stdout",
     "text": [
      "\\tTab\n"
     ]
    }
   ],
   "source": [
    "# This tells Python to run the raw string, so no \\ interpretation\n",
    "print(r\"\\tTab\")"
   ]
  },
  {
   "cell_type": "code",
   "execution_count": 25,
   "metadata": {},
   "outputs": [],
   "source": [
    "# the string we'll run our expressions on\n",
    "text_to_search = '''\n",
    "abcdefghijklmnopqurtuvwxyz\n",
    "ABCDEFGHIJKLMNOPQRSTUVWXYZ\n",
    "\n",
    "1234567890\n",
    "\n",
    "Ha HaHa\n",
    "\n",
    "MetaCharacters (Need to be escaped):\n",
    ". ^ $ * + ? { } [ ] \\ | ( )\n",
    "\n",
    "coreyms.com\n",
    "\n",
    "321-555-4321\n",
    "123.555.1234\n",
    "123*555*1234\n",
    "800-555-1234\n",
    "900-555-1234\n",
    "\n",
    "cat\n",
    "bat\n",
    "Fat\n",
    "mat\n",
    "\n",
    "Mr. Schafer\n",
    "Mr Smith\n",
    "Ms Davis\n",
    "Mrs. Robinson\n",
    "Mr. T\n",
    "'''"
   ]
  },
  {
   "cell_type": "code",
   "execution_count": 26,
   "metadata": {},
   "outputs": [
    {
     "output_type": "stream",
     "name": "stdout",
     "text": [
      "<re.Match object; span=(1, 4), match='abc'>\n(1, 4)\n"
     ]
    }
   ],
   "source": [
    "# Let's search for the pattern 'abc'\n",
    "pattern = re.compile(r\"abc\")\n",
    "\n",
    "# More on finditer and other regular expression methods later\n",
    "matches = pattern.finditer(text_to_search)\n",
    "\n",
    "# Print out the matches\n",
    "for match in matches:\n",
    "    print(match)\n",
    "    print(match.span())"
   ]
  },
  {
   "cell_type": "markdown",
   "metadata": {},
   "source": [
    "Notice how the search is case senstive and looks for the pattern in the exact order"
   ]
  },
  {
   "cell_type": "code",
   "execution_count": 27,
   "metadata": {},
   "outputs": [
    {
     "output_type": "stream",
     "name": "stdout",
     "text": [
      "abc\n"
     ]
    }
   ],
   "source": [
    "# The span shows us the start and end indecies of the match found\n",
    "print(text_to_search[1:4])"
   ]
  },
  {
   "source": [
    "## MetaCharacters\n",
    "\n",
    "MetaCharacters are used to form Regular Expressions that can match any text pattern we want."
   ],
   "cell_type": "markdown",
   "metadata": {}
  },
  {
   "source": [
    "### Searching for MetaCharacters"
   ],
   "cell_type": "markdown",
   "metadata": {}
  },
  {
   "cell_type": "code",
   "execution_count": 28,
   "metadata": {},
   "outputs": [
    {
     "output_type": "stream",
     "name": "stdout",
     "text": [
      "<re.Match object; span=(1, 2), match='a'>\n",
      "<re.Match object; span=(2, 3), match='b'>\n",
      "<re.Match object; span=(3, 4), match='c'>\n",
      "<re.Match object; span=(4, 5), match='d'>\n",
      "<re.Match object; span=(5, 6), match='e'>\n",
      "<re.Match object; span=(6, 7), match='f'>\n",
      "<re.Match object; span=(7, 8), match='g'>\n",
      "<re.Match object; span=(8, 9), match='h'>\n",
      "<re.Match object; span=(9, 10), match='i'>\n",
      "<re.Match object; span=(10, 11), match='j'>\n",
      "<re.Match object; span=(11, 12), match='k'>\n",
      "<re.Match object; span=(12, 13), match='l'>\n",
      "<re.Match object; span=(13, 14), match='m'>\n",
      "<re.Match object; span=(14, 15), match='n'>\n",
      "<re.Match object; span=(15, 16), match='o'>\n",
      "<re.Match object; span=(16, 17), match='p'>\n",
      "<re.Match object; span=(17, 18), match='q'>\n",
      "<re.Match object; span=(18, 19), match='u'>\n",
      "<re.Match object; span=(19, 20), match='r'>\n",
      "<re.Match object; span=(20, 21), match='t'>\n",
      "<re.Match object; span=(21, 22), match='u'>\n",
      "<re.Match object; span=(22, 23), match='v'>\n",
      "<re.Match object; span=(23, 24), match='w'>\n",
      "<re.Match object; span=(24, 25), match='x'>\n",
      "<re.Match object; span=(25, 26), match='y'>\n",
      "<re.Match object; span=(26, 27), match='z'>\n",
      "<re.Match object; span=(28, 29), match='A'>\n",
      "<re.Match object; span=(29, 30), match='B'>\n",
      "<re.Match object; span=(30, 31), match='C'>\n",
      "<re.Match object; span=(31, 32), match='D'>\n",
      "<re.Match object; span=(32, 33), match='E'>\n",
      "<re.Match object; span=(33, 34), match='F'>\n",
      "<re.Match object; span=(34, 35), match='G'>\n",
      "<re.Match object; span=(35, 36), match='H'>\n",
      "<re.Match object; span=(36, 37), match='I'>\n",
      "<re.Match object; span=(37, 38), match='J'>\n",
      "<re.Match object; span=(38, 39), match='K'>\n",
      "<re.Match object; span=(39, 40), match='L'>\n",
      "<re.Match object; span=(40, 41), match='M'>\n",
      "<re.Match object; span=(41, 42), match='N'>\n",
      "<re.Match object; span=(42, 43), match='O'>\n",
      "<re.Match object; span=(43, 44), match='P'>\n",
      "<re.Match object; span=(44, 45), match='Q'>\n",
      "<re.Match object; span=(45, 46), match='R'>\n",
      "<re.Match object; span=(46, 47), match='S'>\n",
      "<re.Match object; span=(47, 48), match='T'>\n",
      "<re.Match object; span=(48, 49), match='U'>\n",
      "<re.Match object; span=(49, 50), match='V'>\n",
      "<re.Match object; span=(50, 51), match='W'>\n",
      "<re.Match object; span=(51, 52), match='X'>\n",
      "<re.Match object; span=(52, 53), match='Y'>\n",
      "<re.Match object; span=(53, 54), match='Z'>\n",
      "<re.Match object; span=(56, 57), match='1'>\n",
      "<re.Match object; span=(57, 58), match='2'>\n",
      "<re.Match object; span=(58, 59), match='3'>\n",
      "<re.Match object; span=(59, 60), match='4'>\n",
      "<re.Match object; span=(60, 61), match='5'>\n",
      "<re.Match object; span=(61, 62), match='6'>\n",
      "<re.Match object; span=(62, 63), match='7'>\n",
      "<re.Match object; span=(63, 64), match='8'>\n",
      "<re.Match object; span=(64, 65), match='9'>\n",
      "<re.Match object; span=(65, 66), match='0'>\n",
      "<re.Match object; span=(68, 69), match='H'>\n",
      "<re.Match object; span=(69, 70), match='a'>\n",
      "<re.Match object; span=(70, 71), match=' '>\n",
      "<re.Match object; span=(71, 72), match='H'>\n",
      "<re.Match object; span=(72, 73), match='a'>\n",
      "<re.Match object; span=(73, 74), match='H'>\n",
      "<re.Match object; span=(74, 75), match='a'>\n",
      "<re.Match object; span=(77, 78), match='M'>\n",
      "<re.Match object; span=(78, 79), match='e'>\n",
      "<re.Match object; span=(79, 80), match='t'>\n",
      "<re.Match object; span=(80, 81), match='a'>\n",
      "<re.Match object; span=(81, 82), match='C'>\n",
      "<re.Match object; span=(82, 83), match='h'>\n",
      "<re.Match object; span=(83, 84), match='a'>\n",
      "<re.Match object; span=(84, 85), match='r'>\n",
      "<re.Match object; span=(85, 86), match='a'>\n",
      "<re.Match object; span=(86, 87), match='c'>\n",
      "<re.Match object; span=(87, 88), match='t'>\n",
      "<re.Match object; span=(88, 89), match='e'>\n",
      "<re.Match object; span=(89, 90), match='r'>\n",
      "<re.Match object; span=(90, 91), match='s'>\n",
      "<re.Match object; span=(91, 92), match=' '>\n",
      "<re.Match object; span=(92, 93), match='('>\n",
      "<re.Match object; span=(93, 94), match='N'>\n",
      "<re.Match object; span=(94, 95), match='e'>\n",
      "<re.Match object; span=(95, 96), match='e'>\n",
      "<re.Match object; span=(96, 97), match='d'>\n",
      "<re.Match object; span=(97, 98), match=' '>\n",
      "<re.Match object; span=(98, 99), match='t'>\n",
      "<re.Match object; span=(99, 100), match='o'>\n",
      "<re.Match object; span=(100, 101), match=' '>\n",
      "<re.Match object; span=(101, 102), match='b'>\n",
      "<re.Match object; span=(102, 103), match='e'>\n",
      "<re.Match object; span=(103, 104), match=' '>\n",
      "<re.Match object; span=(104, 105), match='e'>\n",
      "<re.Match object; span=(105, 106), match='s'>\n",
      "<re.Match object; span=(106, 107), match='c'>\n",
      "<re.Match object; span=(107, 108), match='a'>\n",
      "<re.Match object; span=(108, 109), match='p'>\n",
      "<re.Match object; span=(109, 110), match='e'>\n",
      "<re.Match object; span=(110, 111), match='d'>\n",
      "<re.Match object; span=(111, 112), match=')'>\n",
      "<re.Match object; span=(112, 113), match=':'>\n",
      "<re.Match object; span=(114, 115), match='.'>\n",
      "<re.Match object; span=(115, 116), match=' '>\n",
      "<re.Match object; span=(116, 117), match='^'>\n",
      "<re.Match object; span=(117, 118), match=' '>\n",
      "<re.Match object; span=(118, 119), match='$'>\n",
      "<re.Match object; span=(119, 120), match=' '>\n",
      "<re.Match object; span=(120, 121), match='*'>\n",
      "<re.Match object; span=(121, 122), match=' '>\n",
      "<re.Match object; span=(122, 123), match='+'>\n",
      "<re.Match object; span=(123, 124), match=' '>\n",
      "<re.Match object; span=(124, 125), match='?'>\n",
      "<re.Match object; span=(125, 126), match=' '>\n",
      "<re.Match object; span=(126, 127), match='{'>\n",
      "<re.Match object; span=(127, 128), match=' '>\n",
      "<re.Match object; span=(128, 129), match='}'>\n",
      "<re.Match object; span=(129, 130), match=' '>\n",
      "<re.Match object; span=(130, 131), match='['>\n",
      "<re.Match object; span=(131, 132), match=' '>\n",
      "<re.Match object; span=(132, 133), match=']'>\n",
      "<re.Match object; span=(133, 134), match=' '>\n",
      "<re.Match object; span=(134, 135), match='\\\\'>\n",
      "<re.Match object; span=(135, 136), match=' '>\n",
      "<re.Match object; span=(136, 137), match='|'>\n",
      "<re.Match object; span=(137, 138), match=' '>\n",
      "<re.Match object; span=(138, 139), match='('>\n",
      "<re.Match object; span=(139, 140), match=' '>\n",
      "<re.Match object; span=(140, 141), match=')'>\n",
      "<re.Match object; span=(143, 144), match='c'>\n",
      "<re.Match object; span=(144, 145), match='o'>\n",
      "<re.Match object; span=(145, 146), match='r'>\n",
      "<re.Match object; span=(146, 147), match='e'>\n",
      "<re.Match object; span=(147, 148), match='y'>\n",
      "<re.Match object; span=(148, 149), match='m'>\n",
      "<re.Match object; span=(149, 150), match='s'>\n",
      "<re.Match object; span=(150, 151), match='.'>\n",
      "<re.Match object; span=(151, 152), match='c'>\n",
      "<re.Match object; span=(152, 153), match='o'>\n",
      "<re.Match object; span=(153, 154), match='m'>\n",
      "<re.Match object; span=(156, 157), match='3'>\n",
      "<re.Match object; span=(157, 158), match='2'>\n",
      "<re.Match object; span=(158, 159), match='1'>\n",
      "<re.Match object; span=(159, 160), match='-'>\n",
      "<re.Match object; span=(160, 161), match='5'>\n",
      "<re.Match object; span=(161, 162), match='5'>\n",
      "<re.Match object; span=(162, 163), match='5'>\n",
      "<re.Match object; span=(163, 164), match='-'>\n",
      "<re.Match object; span=(164, 165), match='4'>\n",
      "<re.Match object; span=(165, 166), match='3'>\n",
      "<re.Match object; span=(166, 167), match='2'>\n",
      "<re.Match object; span=(167, 168), match='1'>\n",
      "<re.Match object; span=(169, 170), match='1'>\n",
      "<re.Match object; span=(170, 171), match='2'>\n",
      "<re.Match object; span=(171, 172), match='3'>\n",
      "<re.Match object; span=(172, 173), match='.'>\n",
      "<re.Match object; span=(173, 174), match='5'>\n",
      "<re.Match object; span=(174, 175), match='5'>\n",
      "<re.Match object; span=(175, 176), match='5'>\n",
      "<re.Match object; span=(176, 177), match='.'>\n",
      "<re.Match object; span=(177, 178), match='1'>\n",
      "<re.Match object; span=(178, 179), match='2'>\n",
      "<re.Match object; span=(179, 180), match='3'>\n",
      "<re.Match object; span=(180, 181), match='4'>\n",
      "<re.Match object; span=(182, 183), match='1'>\n",
      "<re.Match object; span=(183, 184), match='2'>\n",
      "<re.Match object; span=(184, 185), match='3'>\n",
      "<re.Match object; span=(185, 186), match='*'>\n",
      "<re.Match object; span=(186, 187), match='5'>\n",
      "<re.Match object; span=(187, 188), match='5'>\n",
      "<re.Match object; span=(188, 189), match='5'>\n",
      "<re.Match object; span=(189, 190), match='*'>\n",
      "<re.Match object; span=(190, 191), match='1'>\n",
      "<re.Match object; span=(191, 192), match='2'>\n",
      "<re.Match object; span=(192, 193), match='3'>\n",
      "<re.Match object; span=(193, 194), match='4'>\n",
      "<re.Match object; span=(195, 196), match='8'>\n",
      "<re.Match object; span=(196, 197), match='0'>\n",
      "<re.Match object; span=(197, 198), match='0'>\n",
      "<re.Match object; span=(198, 199), match='-'>\n",
      "<re.Match object; span=(199, 200), match='5'>\n",
      "<re.Match object; span=(200, 201), match='5'>\n",
      "<re.Match object; span=(201, 202), match='5'>\n",
      "<re.Match object; span=(202, 203), match='-'>\n",
      "<re.Match object; span=(203, 204), match='1'>\n",
      "<re.Match object; span=(204, 205), match='2'>\n",
      "<re.Match object; span=(205, 206), match='3'>\n",
      "<re.Match object; span=(206, 207), match='4'>\n",
      "<re.Match object; span=(208, 209), match='9'>\n",
      "<re.Match object; span=(209, 210), match='0'>\n",
      "<re.Match object; span=(210, 211), match='0'>\n",
      "<re.Match object; span=(211, 212), match='-'>\n",
      "<re.Match object; span=(212, 213), match='5'>\n",
      "<re.Match object; span=(213, 214), match='5'>\n",
      "<re.Match object; span=(214, 215), match='5'>\n",
      "<re.Match object; span=(215, 216), match='-'>\n",
      "<re.Match object; span=(216, 217), match='1'>\n",
      "<re.Match object; span=(217, 218), match='2'>\n",
      "<re.Match object; span=(218, 219), match='3'>\n",
      "<re.Match object; span=(219, 220), match='4'>\n",
      "<re.Match object; span=(222, 223), match='c'>\n",
      "<re.Match object; span=(223, 224), match='a'>\n",
      "<re.Match object; span=(224, 225), match='t'>\n",
      "<re.Match object; span=(226, 227), match='b'>\n",
      "<re.Match object; span=(227, 228), match='a'>\n",
      "<re.Match object; span=(228, 229), match='t'>\n",
      "<re.Match object; span=(230, 231), match='F'>\n",
      "<re.Match object; span=(231, 232), match='a'>\n",
      "<re.Match object; span=(232, 233), match='t'>\n",
      "<re.Match object; span=(234, 235), match='m'>\n",
      "<re.Match object; span=(235, 236), match='a'>\n",
      "<re.Match object; span=(236, 237), match='t'>\n",
      "<re.Match object; span=(239, 240), match='M'>\n",
      "<re.Match object; span=(240, 241), match='r'>\n",
      "<re.Match object; span=(241, 242), match='.'>\n",
      "<re.Match object; span=(242, 243), match=' '>\n",
      "<re.Match object; span=(243, 244), match='S'>\n",
      "<re.Match object; span=(244, 245), match='c'>\n",
      "<re.Match object; span=(245, 246), match='h'>\n",
      "<re.Match object; span=(246, 247), match='a'>\n",
      "<re.Match object; span=(247, 248), match='f'>\n",
      "<re.Match object; span=(248, 249), match='e'>\n",
      "<re.Match object; span=(249, 250), match='r'>\n",
      "<re.Match object; span=(251, 252), match='M'>\n",
      "<re.Match object; span=(252, 253), match='r'>\n",
      "<re.Match object; span=(253, 254), match=' '>\n",
      "<re.Match object; span=(254, 255), match='S'>\n",
      "<re.Match object; span=(255, 256), match='m'>\n",
      "<re.Match object; span=(256, 257), match='i'>\n",
      "<re.Match object; span=(257, 258), match='t'>\n",
      "<re.Match object; span=(258, 259), match='h'>\n",
      "<re.Match object; span=(260, 261), match='M'>\n",
      "<re.Match object; span=(261, 262), match='s'>\n",
      "<re.Match object; span=(262, 263), match=' '>\n",
      "<re.Match object; span=(263, 264), match='D'>\n",
      "<re.Match object; span=(264, 265), match='a'>\n",
      "<re.Match object; span=(265, 266), match='v'>\n",
      "<re.Match object; span=(266, 267), match='i'>\n",
      "<re.Match object; span=(267, 268), match='s'>\n",
      "<re.Match object; span=(269, 270), match='M'>\n",
      "<re.Match object; span=(270, 271), match='r'>\n",
      "<re.Match object; span=(271, 272), match='s'>\n",
      "<re.Match object; span=(272, 273), match='.'>\n",
      "<re.Match object; span=(273, 274), match=' '>\n",
      "<re.Match object; span=(274, 275), match='R'>\n",
      "<re.Match object; span=(275, 276), match='o'>\n",
      "<re.Match object; span=(276, 277), match='b'>\n",
      "<re.Match object; span=(277, 278), match='i'>\n",
      "<re.Match object; span=(278, 279), match='n'>\n",
      "<re.Match object; span=(279, 280), match='s'>\n",
      "<re.Match object; span=(280, 281), match='o'>\n",
      "<re.Match object; span=(281, 282), match='n'>\n",
      "<re.Match object; span=(283, 284), match='M'>\n",
      "<re.Match object; span=(284, 285), match='r'>\n",
      "<re.Match object; span=(285, 286), match='.'>\n",
      "<re.Match object; span=(286, 287), match=' '>\n",
      "<re.Match object; span=(287, 288), match='T'>\n"
     ]
    }
   ],
   "source": [
    "# Let's search for a dot\n",
    "pattern = re.compile(\".\")\n",
    "\n",
    "matches = pattern.finditer(text_to_search)\n",
    "\n",
    "# Print out the matches\n",
    "for match in matches:\n",
    "    print(match)"
   ]
  },
  {
   "source": [
    "When we tried to search for a dot we got everything as match, and that's because the . is a meta character and so to prevent this from happening we add a \\ behind it which is called **Escaping the character**.\n",
    "\n",
    "all of the following are MetaCharacters:\n",
    ". ^ $ * + ? { } [ ] \\ | ( )\n",
    "\n",
    "MetaCharacters have special uses that we'll get to later."
   ],
   "cell_type": "markdown",
   "metadata": {}
  },
  {
   "cell_type": "code",
   "execution_count": 29,
   "metadata": {},
   "outputs": [
    {
     "output_type": "stream",
     "name": "stdout",
     "text": [
      "<re.Match object; span=(114, 115), match='.'>\n<re.Match object; span=(150, 151), match='.'>\n<re.Match object; span=(172, 173), match='.'>\n<re.Match object; span=(176, 177), match='.'>\n<re.Match object; span=(241, 242), match='.'>\n<re.Match object; span=(272, 273), match='.'>\n<re.Match object; span=(285, 286), match='.'>\n"
     ]
    }
   ],
   "source": [
    "# Escaping the .\n",
    "pattern = re.compile(r\"\\.\")\n",
    "\n",
    "matches = pattern.finditer(text_to_search)\n",
    "\n",
    "# Print out the matches\n",
    "for match in matches:\n",
    "    print(match)"
   ]
  },
  {
   "source": [
    "### Using MetaCharacters"
   ],
   "cell_type": "markdown",
   "metadata": {}
  },
  {
   "source": [
    "Inside [Metacharacters.md](MetaCharacters.md) Is a list of all the metacharacters and what they represent."
   ],
   "cell_type": "markdown",
   "metadata": {}
  },
  {
   "source": [
    "\\d for example reprents a digits and so if we pass it in as a pattern we will get all of teh digits as a match."
   ],
   "cell_type": "markdown",
   "metadata": {}
  },
  {
   "cell_type": "code",
   "execution_count": 30,
   "metadata": {},
   "outputs": [
    {
     "output_type": "stream",
     "name": "stdout",
     "text": [
      "<re.Match object; span=(56, 57), match='1'>\n<re.Match object; span=(57, 58), match='2'>\n<re.Match object; span=(58, 59), match='3'>\n<re.Match object; span=(59, 60), match='4'>\n<re.Match object; span=(60, 61), match='5'>\n<re.Match object; span=(61, 62), match='6'>\n<re.Match object; span=(62, 63), match='7'>\n<re.Match object; span=(63, 64), match='8'>\n<re.Match object; span=(64, 65), match='9'>\n<re.Match object; span=(65, 66), match='0'>\n<re.Match object; span=(156, 157), match='3'>\n<re.Match object; span=(157, 158), match='2'>\n<re.Match object; span=(158, 159), match='1'>\n<re.Match object; span=(160, 161), match='5'>\n<re.Match object; span=(161, 162), match='5'>\n<re.Match object; span=(162, 163), match='5'>\n<re.Match object; span=(164, 165), match='4'>\n<re.Match object; span=(165, 166), match='3'>\n<re.Match object; span=(166, 167), match='2'>\n<re.Match object; span=(167, 168), match='1'>\n<re.Match object; span=(169, 170), match='1'>\n<re.Match object; span=(170, 171), match='2'>\n<re.Match object; span=(171, 172), match='3'>\n<re.Match object; span=(173, 174), match='5'>\n<re.Match object; span=(174, 175), match='5'>\n<re.Match object; span=(175, 176), match='5'>\n<re.Match object; span=(177, 178), match='1'>\n<re.Match object; span=(178, 179), match='2'>\n<re.Match object; span=(179, 180), match='3'>\n<re.Match object; span=(180, 181), match='4'>\n<re.Match object; span=(182, 183), match='1'>\n<re.Match object; span=(183, 184), match='2'>\n<re.Match object; span=(184, 185), match='3'>\n<re.Match object; span=(186, 187), match='5'>\n<re.Match object; span=(187, 188), match='5'>\n<re.Match object; span=(188, 189), match='5'>\n<re.Match object; span=(190, 191), match='1'>\n<re.Match object; span=(191, 192), match='2'>\n<re.Match object; span=(192, 193), match='3'>\n<re.Match object; span=(193, 194), match='4'>\n<re.Match object; span=(195, 196), match='8'>\n<re.Match object; span=(196, 197), match='0'>\n<re.Match object; span=(197, 198), match='0'>\n<re.Match object; span=(199, 200), match='5'>\n<re.Match object; span=(200, 201), match='5'>\n<re.Match object; span=(201, 202), match='5'>\n<re.Match object; span=(203, 204), match='1'>\n<re.Match object; span=(204, 205), match='2'>\n<re.Match object; span=(205, 206), match='3'>\n<re.Match object; span=(206, 207), match='4'>\n<re.Match object; span=(208, 209), match='9'>\n<re.Match object; span=(209, 210), match='0'>\n<re.Match object; span=(210, 211), match='0'>\n<re.Match object; span=(212, 213), match='5'>\n<re.Match object; span=(213, 214), match='5'>\n<re.Match object; span=(214, 215), match='5'>\n<re.Match object; span=(216, 217), match='1'>\n<re.Match object; span=(217, 218), match='2'>\n<re.Match object; span=(218, 219), match='3'>\n<re.Match object; span=(219, 220), match='4'>\n"
     ]
    }
   ],
   "source": [
    "pattern = re.compile(r\"\\d\")\n",
    "\n",
    "matches = pattern.finditer(text_to_search)\n",
    "\n",
    "# Print out the matches\n",
    "for match in matches:\n",
    "    print(match)"
   ]
  },
  {
   "source": [
    "Note that \\D means not a digit which is something all the metacharacters share"
   ],
   "cell_type": "markdown",
   "metadata": {}
  },
  {
   "cell_type": "code",
   "execution_count": 31,
   "metadata": {},
   "outputs": [
    {
     "output_type": "stream",
     "name": "stdout",
     "text": [
      "<re.Match object; span=(0, 1), match='\\n'>\n<re.Match object; span=(1, 2), match='a'>\n<re.Match object; span=(2, 3), match='b'>\n<re.Match object; span=(3, 4), match='c'>\n<re.Match object; span=(4, 5), match='d'>\n<re.Match object; span=(5, 6), match='e'>\n<re.Match object; span=(6, 7), match='f'>\n<re.Match object; span=(7, 8), match='g'>\n<re.Match object; span=(8, 9), match='h'>\n<re.Match object; span=(9, 10), match='i'>\n<re.Match object; span=(10, 11), match='j'>\n<re.Match object; span=(11, 12), match='k'>\n<re.Match object; span=(12, 13), match='l'>\n<re.Match object; span=(13, 14), match='m'>\n<re.Match object; span=(14, 15), match='n'>\n<re.Match object; span=(15, 16), match='o'>\n<re.Match object; span=(16, 17), match='p'>\n<re.Match object; span=(17, 18), match='q'>\n<re.Match object; span=(18, 19), match='u'>\n<re.Match object; span=(19, 20), match='r'>\n<re.Match object; span=(20, 21), match='t'>\n<re.Match object; span=(21, 22), match='u'>\n<re.Match object; span=(22, 23), match='v'>\n<re.Match object; span=(23, 24), match='w'>\n<re.Match object; span=(24, 25), match='x'>\n<re.Match object; span=(25, 26), match='y'>\n<re.Match object; span=(26, 27), match='z'>\n<re.Match object; span=(27, 28), match='\\n'>\n<re.Match object; span=(28, 29), match='A'>\n<re.Match object; span=(29, 30), match='B'>\n<re.Match object; span=(30, 31), match='C'>\n<re.Match object; span=(31, 32), match='D'>\n<re.Match object; span=(32, 33), match='E'>\n<re.Match object; span=(33, 34), match='F'>\n<re.Match object; span=(34, 35), match='G'>\n<re.Match object; span=(35, 36), match='H'>\n<re.Match object; span=(36, 37), match='I'>\n<re.Match object; span=(37, 38), match='J'>\n<re.Match object; span=(38, 39), match='K'>\n<re.Match object; span=(39, 40), match='L'>\n<re.Match object; span=(40, 41), match='M'>\n<re.Match object; span=(41, 42), match='N'>\n<re.Match object; span=(42, 43), match='O'>\n<re.Match object; span=(43, 44), match='P'>\n<re.Match object; span=(44, 45), match='Q'>\n<re.Match object; span=(45, 46), match='R'>\n<re.Match object; span=(46, 47), match='S'>\n<re.Match object; span=(47, 48), match='T'>\n<re.Match object; span=(48, 49), match='U'>\n<re.Match object; span=(49, 50), match='V'>\n<re.Match object; span=(50, 51), match='W'>\n<re.Match object; span=(51, 52), match='X'>\n<re.Match object; span=(52, 53), match='Y'>\n<re.Match object; span=(53, 54), match='Z'>\n<re.Match object; span=(54, 55), match='\\n'>\n<re.Match object; span=(55, 56), match='\\n'>\n<re.Match object; span=(66, 67), match='\\n'>\n<re.Match object; span=(67, 68), match='\\n'>\n<re.Match object; span=(68, 69), match='H'>\n<re.Match object; span=(69, 70), match='a'>\n<re.Match object; span=(70, 71), match=' '>\n<re.Match object; span=(71, 72), match='H'>\n<re.Match object; span=(72, 73), match='a'>\n<re.Match object; span=(73, 74), match='H'>\n<re.Match object; span=(74, 75), match='a'>\n<re.Match object; span=(75, 76), match='\\n'>\n<re.Match object; span=(76, 77), match='\\n'>\n<re.Match object; span=(77, 78), match='M'>\n<re.Match object; span=(78, 79), match='e'>\n<re.Match object; span=(79, 80), match='t'>\n<re.Match object; span=(80, 81), match='a'>\n<re.Match object; span=(81, 82), match='C'>\n<re.Match object; span=(82, 83), match='h'>\n<re.Match object; span=(83, 84), match='a'>\n<re.Match object; span=(84, 85), match='r'>\n<re.Match object; span=(85, 86), match='a'>\n<re.Match object; span=(86, 87), match='c'>\n<re.Match object; span=(87, 88), match='t'>\n<re.Match object; span=(88, 89), match='e'>\n<re.Match object; span=(89, 90), match='r'>\n<re.Match object; span=(90, 91), match='s'>\n<re.Match object; span=(91, 92), match=' '>\n<re.Match object; span=(92, 93), match='('>\n<re.Match object; span=(93, 94), match='N'>\n<re.Match object; span=(94, 95), match='e'>\n<re.Match object; span=(95, 96), match='e'>\n<re.Match object; span=(96, 97), match='d'>\n<re.Match object; span=(97, 98), match=' '>\n<re.Match object; span=(98, 99), match='t'>\n<re.Match object; span=(99, 100), match='o'>\n<re.Match object; span=(100, 101), match=' '>\n<re.Match object; span=(101, 102), match='b'>\n<re.Match object; span=(102, 103), match='e'>\n<re.Match object; span=(103, 104), match=' '>\n<re.Match object; span=(104, 105), match='e'>\n<re.Match object; span=(105, 106), match='s'>\n<re.Match object; span=(106, 107), match='c'>\n<re.Match object; span=(107, 108), match='a'>\n<re.Match object; span=(108, 109), match='p'>\n<re.Match object; span=(109, 110), match='e'>\n<re.Match object; span=(110, 111), match='d'>\n<re.Match object; span=(111, 112), match=')'>\n<re.Match object; span=(112, 113), match=':'>\n<re.Match object; span=(113, 114), match='\\n'>\n<re.Match object; span=(114, 115), match='.'>\n<re.Match object; span=(115, 116), match=' '>\n<re.Match object; span=(116, 117), match='^'>\n<re.Match object; span=(117, 118), match=' '>\n<re.Match object; span=(118, 119), match='$'>\n<re.Match object; span=(119, 120), match=' '>\n<re.Match object; span=(120, 121), match='*'>\n<re.Match object; span=(121, 122), match=' '>\n<re.Match object; span=(122, 123), match='+'>\n<re.Match object; span=(123, 124), match=' '>\n<re.Match object; span=(124, 125), match='?'>\n<re.Match object; span=(125, 126), match=' '>\n<re.Match object; span=(126, 127), match='{'>\n<re.Match object; span=(127, 128), match=' '>\n<re.Match object; span=(128, 129), match='}'>\n<re.Match object; span=(129, 130), match=' '>\n<re.Match object; span=(130, 131), match='['>\n<re.Match object; span=(131, 132), match=' '>\n<re.Match object; span=(132, 133), match=']'>\n<re.Match object; span=(133, 134), match=' '>\n<re.Match object; span=(134, 135), match='\\\\'>\n<re.Match object; span=(135, 136), match=' '>\n<re.Match object; span=(136, 137), match='|'>\n<re.Match object; span=(137, 138), match=' '>\n<re.Match object; span=(138, 139), match='('>\n<re.Match object; span=(139, 140), match=' '>\n<re.Match object; span=(140, 141), match=')'>\n<re.Match object; span=(141, 142), match='\\n'>\n<re.Match object; span=(142, 143), match='\\n'>\n<re.Match object; span=(143, 144), match='c'>\n<re.Match object; span=(144, 145), match='o'>\n<re.Match object; span=(145, 146), match='r'>\n<re.Match object; span=(146, 147), match='e'>\n<re.Match object; span=(147, 148), match='y'>\n<re.Match object; span=(148, 149), match='m'>\n<re.Match object; span=(149, 150), match='s'>\n<re.Match object; span=(150, 151), match='.'>\n<re.Match object; span=(151, 152), match='c'>\n<re.Match object; span=(152, 153), match='o'>\n<re.Match object; span=(153, 154), match='m'>\n<re.Match object; span=(154, 155), match='\\n'>\n<re.Match object; span=(155, 156), match='\\n'>\n<re.Match object; span=(159, 160), match='-'>\n<re.Match object; span=(163, 164), match='-'>\n<re.Match object; span=(168, 169), match='\\n'>\n<re.Match object; span=(172, 173), match='.'>\n<re.Match object; span=(176, 177), match='.'>\n<re.Match object; span=(181, 182), match='\\n'>\n<re.Match object; span=(185, 186), match='*'>\n<re.Match object; span=(189, 190), match='*'>\n<re.Match object; span=(194, 195), match='\\n'>\n<re.Match object; span=(198, 199), match='-'>\n<re.Match object; span=(202, 203), match='-'>\n<re.Match object; span=(207, 208), match='\\n'>\n<re.Match object; span=(211, 212), match='-'>\n<re.Match object; span=(215, 216), match='-'>\n<re.Match object; span=(220, 221), match='\\n'>\n<re.Match object; span=(221, 222), match='\\n'>\n<re.Match object; span=(222, 223), match='c'>\n<re.Match object; span=(223, 224), match='a'>\n<re.Match object; span=(224, 225), match='t'>\n<re.Match object; span=(225, 226), match='\\n'>\n<re.Match object; span=(226, 227), match='b'>\n<re.Match object; span=(227, 228), match='a'>\n<re.Match object; span=(228, 229), match='t'>\n<re.Match object; span=(229, 230), match='\\n'>\n<re.Match object; span=(230, 231), match='F'>\n<re.Match object; span=(231, 232), match='a'>\n<re.Match object; span=(232, 233), match='t'>\n<re.Match object; span=(233, 234), match='\\n'>\n<re.Match object; span=(234, 235), match='m'>\n<re.Match object; span=(235, 236), match='a'>\n<re.Match object; span=(236, 237), match='t'>\n<re.Match object; span=(237, 238), match='\\n'>\n<re.Match object; span=(238, 239), match='\\n'>\n<re.Match object; span=(239, 240), match='M'>\n<re.Match object; span=(240, 241), match='r'>\n<re.Match object; span=(241, 242), match='.'>\n<re.Match object; span=(242, 243), match=' '>\n<re.Match object; span=(243, 244), match='S'>\n<re.Match object; span=(244, 245), match='c'>\n<re.Match object; span=(245, 246), match='h'>\n<re.Match object; span=(246, 247), match='a'>\n<re.Match object; span=(247, 248), match='f'>\n<re.Match object; span=(248, 249), match='e'>\n<re.Match object; span=(249, 250), match='r'>\n<re.Match object; span=(250, 251), match='\\n'>\n<re.Match object; span=(251, 252), match='M'>\n<re.Match object; span=(252, 253), match='r'>\n<re.Match object; span=(253, 254), match=' '>\n<re.Match object; span=(254, 255), match='S'>\n<re.Match object; span=(255, 256), match='m'>\n<re.Match object; span=(256, 257), match='i'>\n<re.Match object; span=(257, 258), match='t'>\n<re.Match object; span=(258, 259), match='h'>\n<re.Match object; span=(259, 260), match='\\n'>\n<re.Match object; span=(260, 261), match='M'>\n<re.Match object; span=(261, 262), match='s'>\n<re.Match object; span=(262, 263), match=' '>\n<re.Match object; span=(263, 264), match='D'>\n<re.Match object; span=(264, 265), match='a'>\n<re.Match object; span=(265, 266), match='v'>\n<re.Match object; span=(266, 267), match='i'>\n<re.Match object; span=(267, 268), match='s'>\n<re.Match object; span=(268, 269), match='\\n'>\n<re.Match object; span=(269, 270), match='M'>\n<re.Match object; span=(270, 271), match='r'>\n<re.Match object; span=(271, 272), match='s'>\n<re.Match object; span=(272, 273), match='.'>\n<re.Match object; span=(273, 274), match=' '>\n<re.Match object; span=(274, 275), match='R'>\n<re.Match object; span=(275, 276), match='o'>\n<re.Match object; span=(276, 277), match='b'>\n<re.Match object; span=(277, 278), match='i'>\n<re.Match object; span=(278, 279), match='n'>\n<re.Match object; span=(279, 280), match='s'>\n<re.Match object; span=(280, 281), match='o'>\n<re.Match object; span=(281, 282), match='n'>\n<re.Match object; span=(282, 283), match='\\n'>\n<re.Match object; span=(283, 284), match='M'>\n<re.Match object; span=(284, 285), match='r'>\n<re.Match object; span=(285, 286), match='.'>\n<re.Match object; span=(286, 287), match=' '>\n<re.Match object; span=(287, 288), match='T'>\n<re.Match object; span=(288, 289), match='\\n'>\n"
     ]
    }
   ],
   "source": [
    "pattern = re.compile(r\"\\D\")\n",
    "\n",
    "matches = pattern.finditer(text_to_search)\n",
    "\n",
    "# Print out the matches\n",
    "for match in matches:\n",
    "    print(match)"
   ]
  },
  {
   "cell_type": "code",
   "execution_count": 32,
   "metadata": {},
   "outputs": [
    {
     "output_type": "stream",
     "name": "stdout",
     "text": [
      "<re.Match object; span=(1, 4), match='abc'>\n<re.Match object; span=(4, 7), match='def'>\n<re.Match object; span=(7, 10), match='ghi'>\n<re.Match object; span=(10, 13), match='jkl'>\n<re.Match object; span=(13, 16), match='mno'>\n<re.Match object; span=(16, 19), match='pqu'>\n<re.Match object; span=(19, 22), match='rtu'>\n<re.Match object; span=(22, 25), match='vwx'>\n<re.Match object; span=(28, 31), match='ABC'>\n<re.Match object; span=(31, 34), match='DEF'>\n<re.Match object; span=(34, 37), match='GHI'>\n<re.Match object; span=(37, 40), match='JKL'>\n<re.Match object; span=(40, 43), match='MNO'>\n<re.Match object; span=(43, 46), match='PQR'>\n<re.Match object; span=(46, 49), match='STU'>\n<re.Match object; span=(49, 52), match='VWX'>\n<re.Match object; span=(56, 59), match='123'>\n<re.Match object; span=(59, 62), match='456'>\n<re.Match object; span=(62, 65), match='789'>\n<re.Match object; span=(71, 74), match='HaH'>\n<re.Match object; span=(77, 80), match='Met'>\n<re.Match object; span=(80, 83), match='aCh'>\n<re.Match object; span=(83, 86), match='ara'>\n<re.Match object; span=(86, 89), match='cte'>\n<re.Match object; span=(93, 96), match='Nee'>\n<re.Match object; span=(104, 107), match='esc'>\n<re.Match object; span=(107, 110), match='ape'>\n<re.Match object; span=(143, 146), match='cor'>\n<re.Match object; span=(146, 149), match='eym'>\n<re.Match object; span=(151, 154), match='com'>\n<re.Match object; span=(156, 159), match='321'>\n<re.Match object; span=(160, 163), match='555'>\n<re.Match object; span=(164, 167), match='432'>\n<re.Match object; span=(169, 172), match='123'>\n<re.Match object; span=(173, 176), match='555'>\n<re.Match object; span=(177, 180), match='123'>\n<re.Match object; span=(182, 185), match='123'>\n<re.Match object; span=(186, 189), match='555'>\n<re.Match object; span=(190, 193), match='123'>\n<re.Match object; span=(195, 198), match='800'>\n<re.Match object; span=(199, 202), match='555'>\n<re.Match object; span=(203, 206), match='123'>\n<re.Match object; span=(208, 211), match='900'>\n<re.Match object; span=(212, 215), match='555'>\n<re.Match object; span=(216, 219), match='123'>\n<re.Match object; span=(222, 225), match='cat'>\n<re.Match object; span=(226, 229), match='bat'>\n<re.Match object; span=(230, 233), match='Fat'>\n<re.Match object; span=(234, 237), match='mat'>\n<re.Match object; span=(243, 246), match='Sch'>\n<re.Match object; span=(246, 249), match='afe'>\n<re.Match object; span=(254, 257), match='Smi'>\n<re.Match object; span=(263, 266), match='Dav'>\n<re.Match object; span=(269, 272), match='Mrs'>\n<re.Match object; span=(274, 277), match='Rob'>\n<re.Match object; span=(277, 280), match='ins'>\n"
     ]
    }
   ],
   "source": [
    "# Any three word character: a-z, A-Z, 0-9, _\n",
    "pattern = re.compile(r\"\\w\\w\\w\")\n",
    "\n",
    "matches = pattern.finditer(text_to_search)\n",
    "\n",
    "# Print out the matches\n",
    "for match in matches:\n",
    "    print(match)"
   ]
  },
  {
   "cell_type": "code",
   "execution_count": 33,
   "metadata": {},
   "outputs": [
    {
     "output_type": "stream",
     "name": "stdout",
     "text": [
      "<re.Match object; span=(1, 3), match='ab'>\n",
      "<re.Match object; span=(3, 5), match='cd'>\n",
      "<re.Match object; span=(5, 7), match='ef'>\n",
      "<re.Match object; span=(7, 9), match='gh'>\n",
      "<re.Match object; span=(9, 11), match='ij'>\n",
      "<re.Match object; span=(11, 13), match='kl'>\n",
      "<re.Match object; span=(13, 15), match='mn'>\n",
      "<re.Match object; span=(15, 17), match='op'>\n",
      "<re.Match object; span=(17, 19), match='qu'>\n",
      "<re.Match object; span=(19, 21), match='rt'>\n",
      "<re.Match object; span=(21, 23), match='uv'>\n",
      "<re.Match object; span=(23, 25), match='wx'>\n",
      "<re.Match object; span=(25, 27), match='yz'>\n",
      "<re.Match object; span=(28, 30), match='AB'>\n",
      "<re.Match object; span=(30, 32), match='CD'>\n",
      "<re.Match object; span=(32, 34), match='EF'>\n",
      "<re.Match object; span=(34, 36), match='GH'>\n",
      "<re.Match object; span=(36, 38), match='IJ'>\n",
      "<re.Match object; span=(38, 40), match='KL'>\n",
      "<re.Match object; span=(40, 42), match='MN'>\n",
      "<re.Match object; span=(42, 44), match='OP'>\n",
      "<re.Match object; span=(44, 46), match='QR'>\n",
      "<re.Match object; span=(46, 48), match='ST'>\n",
      "<re.Match object; span=(48, 50), match='UV'>\n",
      "<re.Match object; span=(50, 52), match='WX'>\n",
      "<re.Match object; span=(52, 54), match='YZ'>\n",
      "<re.Match object; span=(56, 58), match='12'>\n",
      "<re.Match object; span=(58, 60), match='34'>\n",
      "<re.Match object; span=(60, 62), match='56'>\n",
      "<re.Match object; span=(62, 64), match='78'>\n",
      "<re.Match object; span=(64, 66), match='90'>\n",
      "<re.Match object; span=(68, 70), match='Ha'>\n",
      "<re.Match object; span=(70, 72), match=' H'>\n",
      "<re.Match object; span=(72, 74), match='aH'>\n",
      "<re.Match object; span=(77, 79), match='Me'>\n",
      "<re.Match object; span=(79, 81), match='ta'>\n",
      "<re.Match object; span=(81, 83), match='Ch'>\n",
      "<re.Match object; span=(83, 85), match='ar'>\n",
      "<re.Match object; span=(85, 87), match='ac'>\n",
      "<re.Match object; span=(87, 89), match='te'>\n",
      "<re.Match object; span=(89, 91), match='rs'>\n",
      "<re.Match object; span=(91, 93), match=' ('>\n",
      "<re.Match object; span=(93, 95), match='Ne'>\n",
      "<re.Match object; span=(95, 97), match='ed'>\n",
      "<re.Match object; span=(97, 99), match=' t'>\n",
      "<re.Match object; span=(99, 101), match='o '>\n",
      "<re.Match object; span=(101, 103), match='be'>\n",
      "<re.Match object; span=(103, 105), match=' e'>\n",
      "<re.Match object; span=(105, 107), match='sc'>\n",
      "<re.Match object; span=(107, 109), match='ap'>\n",
      "<re.Match object; span=(109, 111), match='ed'>\n",
      "<re.Match object; span=(111, 113), match='):'>\n",
      "<re.Match object; span=(114, 116), match='. '>\n",
      "<re.Match object; span=(116, 118), match='^ '>\n",
      "<re.Match object; span=(118, 120), match='$ '>\n",
      "<re.Match object; span=(120, 122), match='* '>\n",
      "<re.Match object; span=(122, 124), match='+ '>\n",
      "<re.Match object; span=(124, 126), match='? '>\n",
      "<re.Match object; span=(126, 128), match='{ '>\n",
      "<re.Match object; span=(128, 130), match='} '>\n",
      "<re.Match object; span=(130, 132), match='[ '>\n",
      "<re.Match object; span=(132, 134), match='] '>\n",
      "<re.Match object; span=(134, 136), match='\\\\ '>\n",
      "<re.Match object; span=(136, 138), match='| '>\n",
      "<re.Match object; span=(138, 140), match='( '>\n",
      "<re.Match object; span=(143, 145), match='co'>\n",
      "<re.Match object; span=(145, 147), match='re'>\n",
      "<re.Match object; span=(147, 149), match='ym'>\n",
      "<re.Match object; span=(149, 151), match='s.'>\n",
      "<re.Match object; span=(151, 153), match='co'>\n",
      "<re.Match object; span=(156, 158), match='32'>\n",
      "<re.Match object; span=(158, 160), match='1-'>\n",
      "<re.Match object; span=(160, 162), match='55'>\n",
      "<re.Match object; span=(162, 164), match='5-'>\n",
      "<re.Match object; span=(164, 166), match='43'>\n",
      "<re.Match object; span=(166, 168), match='21'>\n",
      "<re.Match object; span=(169, 171), match='12'>\n",
      "<re.Match object; span=(171, 173), match='3.'>\n",
      "<re.Match object; span=(173, 175), match='55'>\n",
      "<re.Match object; span=(175, 177), match='5.'>\n",
      "<re.Match object; span=(177, 179), match='12'>\n",
      "<re.Match object; span=(179, 181), match='34'>\n",
      "<re.Match object; span=(182, 184), match='12'>\n",
      "<re.Match object; span=(184, 186), match='3*'>\n",
      "<re.Match object; span=(186, 188), match='55'>\n",
      "<re.Match object; span=(188, 190), match='5*'>\n",
      "<re.Match object; span=(190, 192), match='12'>\n",
      "<re.Match object; span=(192, 194), match='34'>\n",
      "<re.Match object; span=(195, 197), match='80'>\n",
      "<re.Match object; span=(197, 199), match='0-'>\n",
      "<re.Match object; span=(199, 201), match='55'>\n",
      "<re.Match object; span=(201, 203), match='5-'>\n",
      "<re.Match object; span=(203, 205), match='12'>\n",
      "<re.Match object; span=(205, 207), match='34'>\n",
      "<re.Match object; span=(208, 210), match='90'>\n",
      "<re.Match object; span=(210, 212), match='0-'>\n",
      "<re.Match object; span=(212, 214), match='55'>\n",
      "<re.Match object; span=(214, 216), match='5-'>\n",
      "<re.Match object; span=(216, 218), match='12'>\n",
      "<re.Match object; span=(218, 220), match='34'>\n",
      "<re.Match object; span=(222, 224), match='ca'>\n",
      "<re.Match object; span=(226, 228), match='ba'>\n",
      "<re.Match object; span=(230, 232), match='Fa'>\n",
      "<re.Match object; span=(234, 236), match='ma'>\n",
      "<re.Match object; span=(239, 241), match='Mr'>\n",
      "<re.Match object; span=(241, 243), match='. '>\n",
      "<re.Match object; span=(243, 245), match='Sc'>\n",
      "<re.Match object; span=(245, 247), match='ha'>\n",
      "<re.Match object; span=(247, 249), match='fe'>\n",
      "<re.Match object; span=(251, 253), match='Mr'>\n",
      "<re.Match object; span=(253, 255), match=' S'>\n",
      "<re.Match object; span=(255, 257), match='mi'>\n",
      "<re.Match object; span=(257, 259), match='th'>\n",
      "<re.Match object; span=(260, 262), match='Ms'>\n",
      "<re.Match object; span=(262, 264), match=' D'>\n",
      "<re.Match object; span=(264, 266), match='av'>\n",
      "<re.Match object; span=(266, 268), match='is'>\n",
      "<re.Match object; span=(269, 271), match='Mr'>\n",
      "<re.Match object; span=(271, 273), match='s.'>\n",
      "<re.Match object; span=(273, 275), match=' R'>\n",
      "<re.Match object; span=(275, 277), match='ob'>\n",
      "<re.Match object; span=(277, 279), match='in'>\n",
      "<re.Match object; span=(279, 281), match='so'>\n",
      "<re.Match object; span=(283, 285), match='Mr'>\n",
      "<re.Match object; span=(285, 287), match='. '>\n"
     ]
    }
   ],
   "source": [
    "# Any two characters\n",
    "pattern = re.compile(r\"..\")\n",
    "\n",
    "matches = pattern.finditer(text_to_search)\n",
    "\n",
    "# Print out the matches\n",
    "for match in matches:\n",
    "    print(match)"
   ]
  },
  {
   "source": [
    "### Anchors\n",
    "\n",
    "These don't match any characters, but rather indicate positions before or after a character"
   ],
   "cell_type": "markdown",
   "metadata": {}
  },
  {
   "source": [
    "for example if we look at the three ha we have (`Ha HaHa`) we can search for the Ha that have a word bourdry before them."
   ],
   "cell_type": "markdown",
   "metadata": {}
  },
  {
   "cell_type": "code",
   "execution_count": 34,
   "metadata": {},
   "outputs": [
    {
     "output_type": "stream",
     "name": "stdout",
     "text": [
      "<re.Match object; span=(68, 70), match='Ha'>\n<re.Match object; span=(71, 73), match='Ha'>\n"
     ]
    }
   ],
   "source": [
    "pattern = re.compile(r\"\\bHa\")\n",
    "\n",
    "matches = pattern.finditer(text_to_search)\n",
    "\n",
    "# Print out the matches\n",
    "for match in matches:\n",
    "    print(match)"
   ]
  },
  {
   "source": [
    "As we can see the two matchs we got are the Ha that did not have a character before them. (*Ha* *Ha*Ha)"
   ],
   "cell_type": "markdown",
   "metadata": {}
  },
  {
   "source": [
    "^ indicates the start of the string\n",
    "$ indicates the end of the string"
   ],
   "cell_type": "markdown",
   "metadata": {}
  },
  {
   "cell_type": "code",
   "execution_count": 35,
   "metadata": {},
   "outputs": [],
   "source": [
    "sentence = 'Start a sentence and then bring it to an end\\nStartend'"
   ]
  },
  {
   "cell_type": "code",
   "execution_count": 36,
   "metadata": {},
   "outputs": [
    {
     "output_type": "stream",
     "name": "stdout",
     "text": [
      "<re.Match object; span=(0, 5), match='Start'>\n"
     ]
    }
   ],
   "source": [
    "pattern = re.compile(r\"^Start\")\n",
    "\n",
    "matches = pattern.finditer(sentence)\n",
    "\n",
    "# Print out the matches\n",
    "for match in matches:\n",
    "    print(match)"
   ]
  },
  {
   "cell_type": "code",
   "execution_count": 37,
   "metadata": {},
   "outputs": [
    {
     "output_type": "stream",
     "name": "stdout",
     "text": [
      "<re.Match object; span=(0, 5), match='Start'>\n"
     ]
    }
   ],
   "source": [
    "# Even though the string sentence has a in it none of them is at the start of the string\n",
    "pattern = re.compile(r\"^Start\")\n",
    "\n",
    "matches = pattern.finditer(sentence)\n",
    "\n",
    "# Print out the matches\n",
    "for match in matches:\n",
    "    print(match)"
   ]
  },
  {
   "cell_type": "code",
   "execution_count": 38,
   "metadata": {},
   "outputs": [
    {
     "output_type": "stream",
     "name": "stdout",
     "text": [
      "<re.Match object; span=(50, 53), match='end'>\n"
     ]
    }
   ],
   "source": [
    "pattern = re.compile(r\"end$\")\n",
    "\n",
    "matches = pattern.finditer(sentence)\n",
    "\n",
    "# Print out the matches\n",
    "for match in matches:\n",
    "    print(match)"
   ]
  },
  {
   "cell_type": "code",
   "execution_count": 39,
   "metadata": {},
   "outputs": [],
   "source": [
    "pattern = re.compile(r\"s$\")\n",
    "\n",
    "matches = pattern.finditer(sentence)\n",
    "\n",
    "# Print out the matches\n",
    "for match in matches:\n",
    "    print(match)"
   ]
  },
  {
   "source": [
    "## Character Set\n",
    "\n",
    "If we want to find all of the phone numbers that have a . or - inbetween them, we can use a character set."
   ],
   "cell_type": "markdown",
   "metadata": {}
  },
  {
   "cell_type": "code",
   "execution_count": 40,
   "metadata": {},
   "outputs": [
    {
     "output_type": "stream",
     "name": "stdout",
     "text": [
      "<re.Match object; span=(156, 167), match='321-555-432'>\n<re.Match object; span=(169, 180), match='123.555.123'>\n<re.Match object; span=(195, 206), match='800-555-123'>\n<re.Match object; span=(208, 219), match='900-555-123'>\n"
     ]
    }
   ],
   "source": [
    "pattern = re.compile(r\"\\d\\d\\d[.-]\\d\\d\\d[.-]\\d\\d\\d\\d\")\n",
    "\n",
    "matches = pattern.finditer(text_to_search)\n",
    "\n",
    "# Print out the matches\n",
    "for match in matches:\n",
    "    print(match)"
   ]
  },
  {
   "source": [
    "To create a character set we include the characters we want inside a []. \\[. -] means that this position can be either a . or a -. Note how we didn't need to escape behind any of those metacharacters inside the character set."
   ],
   "cell_type": "markdown",
   "metadata": {}
  },
  {
   "source": [
    "Using the - to specify the range of characters we want in a character set."
   ],
   "cell_type": "markdown",
   "metadata": {}
  },
  {
   "cell_type": "code",
   "execution_count": 41,
   "metadata": {},
   "outputs": [
    {
     "output_type": "stream",
     "name": "stdout",
     "text": [
      "<re.Match object; span=(1, 2), match='a'>\n<re.Match object; span=(2, 3), match='b'>\n<re.Match object; span=(3, 4), match='c'>\n<re.Match object; span=(4, 5), match='d'>\n<re.Match object; span=(5, 6), match='e'>\n<re.Match object; span=(6, 7), match='f'>\n<re.Match object; span=(7, 8), match='g'>\n<re.Match object; span=(8, 9), match='h'>\n<re.Match object; span=(9, 10), match='i'>\n<re.Match object; span=(10, 11), match='j'>\n<re.Match object; span=(11, 12), match='k'>\n<re.Match object; span=(12, 13), match='l'>\n<re.Match object; span=(13, 14), match='m'>\n<re.Match object; span=(14, 15), match='n'>\n<re.Match object; span=(15, 16), match='o'>\n<re.Match object; span=(16, 17), match='p'>\n<re.Match object; span=(17, 18), match='q'>\n<re.Match object; span=(18, 19), match='u'>\n<re.Match object; span=(19, 20), match='r'>\n<re.Match object; span=(20, 21), match='t'>\n<re.Match object; span=(21, 22), match='u'>\n<re.Match object; span=(22, 23), match='v'>\n<re.Match object; span=(23, 24), match='w'>\n<re.Match object; span=(24, 25), match='x'>\n<re.Match object; span=(25, 26), match='y'>\n<re.Match object; span=(26, 27), match='z'>\n<re.Match object; span=(28, 29), match='A'>\n<re.Match object; span=(29, 30), match='B'>\n<re.Match object; span=(30, 31), match='C'>\n<re.Match object; span=(31, 32), match='D'>\n<re.Match object; span=(32, 33), match='E'>\n<re.Match object; span=(33, 34), match='F'>\n<re.Match object; span=(34, 35), match='G'>\n<re.Match object; span=(35, 36), match='H'>\n<re.Match object; span=(36, 37), match='I'>\n<re.Match object; span=(37, 38), match='J'>\n<re.Match object; span=(38, 39), match='K'>\n<re.Match object; span=(39, 40), match='L'>\n<re.Match object; span=(40, 41), match='M'>\n<re.Match object; span=(41, 42), match='N'>\n<re.Match object; span=(42, 43), match='O'>\n<re.Match object; span=(43, 44), match='P'>\n<re.Match object; span=(44, 45), match='Q'>\n<re.Match object; span=(45, 46), match='R'>\n<re.Match object; span=(46, 47), match='S'>\n<re.Match object; span=(47, 48), match='T'>\n<re.Match object; span=(48, 49), match='U'>\n<re.Match object; span=(49, 50), match='V'>\n<re.Match object; span=(50, 51), match='W'>\n<re.Match object; span=(51, 52), match='X'>\n<re.Match object; span=(52, 53), match='Y'>\n<re.Match object; span=(53, 54), match='Z'>\n<re.Match object; span=(68, 69), match='H'>\n<re.Match object; span=(69, 70), match='a'>\n<re.Match object; span=(71, 72), match='H'>\n<re.Match object; span=(72, 73), match='a'>\n<re.Match object; span=(73, 74), match='H'>\n<re.Match object; span=(74, 75), match='a'>\n<re.Match object; span=(77, 78), match='M'>\n<re.Match object; span=(78, 79), match='e'>\n<re.Match object; span=(79, 80), match='t'>\n<re.Match object; span=(80, 81), match='a'>\n<re.Match object; span=(81, 82), match='C'>\n<re.Match object; span=(82, 83), match='h'>\n<re.Match object; span=(83, 84), match='a'>\n<re.Match object; span=(84, 85), match='r'>\n<re.Match object; span=(85, 86), match='a'>\n<re.Match object; span=(86, 87), match='c'>\n<re.Match object; span=(87, 88), match='t'>\n<re.Match object; span=(88, 89), match='e'>\n<re.Match object; span=(89, 90), match='r'>\n<re.Match object; span=(90, 91), match='s'>\n<re.Match object; span=(93, 94), match='N'>\n<re.Match object; span=(94, 95), match='e'>\n<re.Match object; span=(95, 96), match='e'>\n<re.Match object; span=(96, 97), match='d'>\n<re.Match object; span=(98, 99), match='t'>\n<re.Match object; span=(99, 100), match='o'>\n<re.Match object; span=(101, 102), match='b'>\n<re.Match object; span=(102, 103), match='e'>\n<re.Match object; span=(104, 105), match='e'>\n<re.Match object; span=(105, 106), match='s'>\n<re.Match object; span=(106, 107), match='c'>\n<re.Match object; span=(107, 108), match='a'>\n<re.Match object; span=(108, 109), match='p'>\n<re.Match object; span=(109, 110), match='e'>\n<re.Match object; span=(110, 111), match='d'>\n<re.Match object; span=(143, 144), match='c'>\n<re.Match object; span=(144, 145), match='o'>\n<re.Match object; span=(145, 146), match='r'>\n<re.Match object; span=(146, 147), match='e'>\n<re.Match object; span=(147, 148), match='y'>\n<re.Match object; span=(148, 149), match='m'>\n<re.Match object; span=(149, 150), match='s'>\n<re.Match object; span=(151, 152), match='c'>\n<re.Match object; span=(152, 153), match='o'>\n<re.Match object; span=(153, 154), match='m'>\n<re.Match object; span=(222, 223), match='c'>\n<re.Match object; span=(223, 224), match='a'>\n<re.Match object; span=(224, 225), match='t'>\n<re.Match object; span=(226, 227), match='b'>\n<re.Match object; span=(227, 228), match='a'>\n<re.Match object; span=(228, 229), match='t'>\n<re.Match object; span=(230, 231), match='F'>\n<re.Match object; span=(231, 232), match='a'>\n<re.Match object; span=(232, 233), match='t'>\n<re.Match object; span=(234, 235), match='m'>\n<re.Match object; span=(235, 236), match='a'>\n<re.Match object; span=(236, 237), match='t'>\n<re.Match object; span=(239, 240), match='M'>\n<re.Match object; span=(240, 241), match='r'>\n<re.Match object; span=(243, 244), match='S'>\n<re.Match object; span=(244, 245), match='c'>\n<re.Match object; span=(245, 246), match='h'>\n<re.Match object; span=(246, 247), match='a'>\n<re.Match object; span=(247, 248), match='f'>\n<re.Match object; span=(248, 249), match='e'>\n<re.Match object; span=(249, 250), match='r'>\n<re.Match object; span=(251, 252), match='M'>\n<re.Match object; span=(252, 253), match='r'>\n<re.Match object; span=(254, 255), match='S'>\n<re.Match object; span=(255, 256), match='m'>\n<re.Match object; span=(256, 257), match='i'>\n<re.Match object; span=(257, 258), match='t'>\n<re.Match object; span=(258, 259), match='h'>\n<re.Match object; span=(260, 261), match='M'>\n<re.Match object; span=(261, 262), match='s'>\n<re.Match object; span=(263, 264), match='D'>\n<re.Match object; span=(264, 265), match='a'>\n<re.Match object; span=(265, 266), match='v'>\n<re.Match object; span=(266, 267), match='i'>\n<re.Match object; span=(267, 268), match='s'>\n<re.Match object; span=(269, 270), match='M'>\n<re.Match object; span=(270, 271), match='r'>\n<re.Match object; span=(271, 272), match='s'>\n<re.Match object; span=(274, 275), match='R'>\n<re.Match object; span=(275, 276), match='o'>\n<re.Match object; span=(276, 277), match='b'>\n<re.Match object; span=(277, 278), match='i'>\n<re.Match object; span=(278, 279), match='n'>\n<re.Match object; span=(279, 280), match='s'>\n<re.Match object; span=(280, 281), match='o'>\n<re.Match object; span=(281, 282), match='n'>\n<re.Match object; span=(283, 284), match='M'>\n<re.Match object; span=(284, 285), match='r'>\n<re.Match object; span=(287, 288), match='T'>\n"
     ]
    }
   ],
   "source": [
    "pattern = re.compile(r\"[a-zA-Z]\")\n",
    "\n",
    "matches = pattern.finditer(text_to_search)\n",
    "\n",
    "# Print out the matches\n",
    "for match in matches:\n",
    "    print(match)"
   ]
  },
  {
   "source": [
    "Using the ^ in character set means negotiation"
   ],
   "cell_type": "markdown",
   "metadata": {}
  },
  {
   "cell_type": "code",
   "execution_count": 42,
   "metadata": {},
   "outputs": [
    {
     "output_type": "stream",
     "name": "stdout",
     "text": [
      "<re.Match object; span=(222, 225), match='cat'>\n<re.Match object; span=(230, 233), match='Fat'>\n<re.Match object; span=(234, 237), match='mat'>\n"
     ]
    }
   ],
   "source": [
    "pattern = re.compile(r\"[^b]at\")\n",
    "\n",
    "matches = pattern.finditer(text_to_search)\n",
    "\n",
    "# Print out the matches\n",
    "for match in matches:\n",
    "    print(match)"
   ]
  },
  {
   "source": [
    "## Quantifier\n",
    "\n",
    "Quantifiers Indicate how many times do we want a character or pattern to repeat"
   ],
   "cell_type": "markdown",
   "metadata": {}
  },
  {
   "source": [
    "Using quantifiers we can improve our patterns"
   ],
   "cell_type": "markdown",
   "metadata": {}
  },
  {
   "cell_type": "code",
   "execution_count": 87,
   "metadata": {},
   "outputs": [
    {
     "output_type": "stream",
     "name": "stdout",
     "text": [
      "<re.Match object; span=(156, 168), match='321-555-4321'>\n<re.Match object; span=(169, 181), match='123.555.1234'>\n<re.Match object; span=(195, 207), match='800-555-1234'>\n<re.Match object; span=(208, 220), match='900-555-1234'>\n"
     ]
    }
   ],
   "source": [
    "pattern = re.compile(r\"\\d{3}[.-]\\d{3}[.-]\\d{4}\")\n",
    "\n",
    "matches = pattern.finditer(text_to_search)\n",
    "\n",
    "# Print out the matches\n",
    "for match in matches:\n",
    "    print(match)"
   ]
  },
  {
   "source": [
    "We can match the prefix followed by the name of a list of people:\n",
    "\n",
    "- Mr. Schafer\n",
    "- Mr Smith\n",
    "- Ms Davis\n",
    "- Mrs. Robinson\n",
    "- Mr. T"
   ],
   "cell_type": "markdown",
   "metadata": {}
  },
  {
   "cell_type": "code",
   "execution_count": 48,
   "metadata": {},
   "outputs": [
    {
     "output_type": "stream",
     "name": "stdout",
     "text": [
      "<re.Match object; span=(239, 250), match='Mr. Schafer'>\n<re.Match object; span=(251, 259), match='Mr Smith'>\n<re.Match object; span=(260, 268), match='Ms Davis'>\n<re.Match object; span=(269, 282), match='Mrs. Robinson'>\n<re.Match object; span=(283, 288), match='Mr. T'>\n"
     ]
    }
   ],
   "source": [
    "pattern = re.compile(r\"M(r|s|rs)\\.?\\s[A-Z]\\w*\")\n",
    "\n",
    "matches = pattern.finditer(text_to_search)\n",
    "\n",
    "# Print out the matches\n",
    "for match in matches:\n",
    "    print(match)"
   ]
  },
  {
   "source": [
    "## Groups\n",
    "\n",
    "we use groups to specify one of teh following patterns. (r|s|rs) mean that after M there can be an r, s, or rs."
   ],
   "cell_type": "markdown",
   "metadata": {}
  },
  {
   "source": [
    "## Capturing information from our patterns\n",
    "\n",
    "Let's take a look at an example where caputer information from our matches."
   ],
   "cell_type": "markdown",
   "metadata": {}
  },
  {
   "cell_type": "code",
   "execution_count": 49,
   "metadata": {},
   "outputs": [],
   "source": [
    "urls = '''\n",
    "https://www.google.com\n",
    "http://coreyms.com\n",
    "https://youtube.com\n",
    "https://www.nasa.gov\n",
    "'''"
   ]
  },
  {
   "cell_type": "code",
   "execution_count": 60,
   "metadata": {},
   "outputs": [
    {
     "output_type": "stream",
     "name": "stdout",
     "text": [
      "https://www.google.com\nhttp://coreyms.com\nhttps://youtube.com\nhttps://www.nasa.gov\n"
     ]
    }
   ],
   "source": [
    "pattern = re.compile(r\"https?://(www\\.)?(\\w+)(\\.\\w+)\")\n",
    "\n",
    "matches = pattern.finditer(urls)\n",
    "\n",
    "# Print out the matches\n",
    "for match in matches:\n",
    "    print(match)"
   ]
  },
  {
   "source": [
    "`https?://(www\\.)?(\\w+)(\\.\\w+)`\n",
    "\n",
    "In this regular expression there's a couple of groups:\n",
    "\n",
    "- group() or group(0): the entire match\n",
    "- group(1): (www\\.)\n",
    "- group(2): (\\w+)\n",
    "- group(3): (\\.\\w+)"
   ],
   "cell_type": "markdown",
   "metadata": {}
  },
  {
   "cell_type": "code",
   "execution_count": 68,
   "metadata": {},
   "outputs": [
    {
     "output_type": "stream",
     "name": "stdout",
     "text": [
      "google.com\ncoreyms.com\nyoutube.com\nnasa.gov\n"
     ]
    }
   ],
   "source": [
    "pattern = re.compile(r\"https?://(www\\.)?(\\w+)(\\.\\w+)\")\n",
    "\n",
    "matches = pattern.finditer(urls)\n",
    "\n",
    "# Print out the group we want\n",
    "for match in matches:\n",
    "    print(match.group(2)+match.group(3))"
   ]
  },
  {
   "source": [
    "### Back reference\n",
    "\n",
    "A short hand to access groups which we can use to perform a subsitiution.\n",
    "\n",
    "the back reference for group `n` is `\\g<n>`"
   ],
   "cell_type": "markdown",
   "metadata": {}
  },
  {
   "cell_type": "code",
   "execution_count": 82,
   "metadata": {},
   "outputs": [
    {
     "output_type": "stream",
     "name": "stdout",
     "text": [
      "\ngoogle.com\ncoreyms.com\nyoutube.com\nnasa.gov\n\n"
     ]
    }
   ],
   "source": [
    "pattern = re.compile(r\"https?://(www\\.)?(\\w+)(\\.\\w+)\")\n",
    "\n",
    "# Replaces the matches with group 2, \\2, followed by group 3, \\3.\n",
    "subbed_urls = pattern.sub(r'\\2\\3', urls)\n",
    "\n",
    "print(subbed_urls)"
   ]
  },
  {
   "source": [
    "## Additional methods"
   ],
   "cell_type": "markdown",
   "metadata": {}
  },
  {
   "source": [
    "### Findall\n",
    "\n",
    "returns the matches as a list of strings. If the pattern has a group then it will just return that group, or groups as a tuple."
   ],
   "cell_type": "markdown",
   "metadata": {}
  },
  {
   "cell_type": "code",
   "execution_count": 83,
   "metadata": {},
   "outputs": [
    {
     "output_type": "stream",
     "name": "stdout",
     "text": [
      "r\nr\ns\nrs\nr\n"
     ]
    }
   ],
   "source": [
    "pattern = re.compile(r\"M(r|s|rs)\\.?\\s[A-Z]\\w*\")\n",
    "\n",
    "matches = pattern.findall(text_to_search)\n",
    "\n",
    "# Print out the matches\n",
    "for match in matches:\n",
    "    print(match)"
   ]
  },
  {
   "cell_type": "code",
   "execution_count": 84,
   "metadata": {},
   "outputs": [
    {
     "output_type": "stream",
     "name": "stdout",
     "text": [
      "('www.', 'google', '.com')\n('', 'coreyms', '.com')\n('', 'youtube', '.com')\n('www.', 'nasa', '.gov')\n"
     ]
    }
   ],
   "source": [
    "pattern = re.compile(r\"https?://(www\\.)?(\\w+)(\\.\\w+)\")\n",
    "\n",
    "matches = pattern.findall(urls)\n",
    "\n",
    "# Print out the matches\n",
    "for match in matches:\n",
    "    print(match)"
   ]
  },
  {
   "cell_type": "code",
   "execution_count": 85,
   "metadata": {},
   "outputs": [
    {
     "output_type": "stream",
     "name": "stdout",
     "text": [
      "321-555-4321\n123.555.1234\n800-555-1234\n900-555-1234\n"
     ]
    }
   ],
   "source": [
    "# No groups\n",
    "pattern = re.compile(r\"\\d{3}[.-]\\d{3}[.-]\\d{4}\")\n",
    "\n",
    "matches = pattern.findall(text_to_search)\n",
    "\n",
    "# Print out the matches\n",
    "for match in matches:\n",
    "    print(match)"
   ]
  },
  {
   "source": [
    "### Match\n",
    "\n",
    "checks the start of the string for a match and returns it if one exits."
   ],
   "cell_type": "markdown",
   "metadata": {}
  },
  {
   "cell_type": "code",
   "execution_count": 90,
   "metadata": {},
   "outputs": [
    {
     "output_type": "stream",
     "name": "stdout",
     "text": [
      "<re.Match object; span=(0, 5), match='Start'>\n"
     ]
    }
   ],
   "source": [
    "pattern = re.compile(r\"Start\")\n",
    "\n",
    "match = pattern.match(sentence)\n",
    "\n",
    "# Print out the matches\n",
    "print(match)"
   ]
  },
  {
   "source": [
    "### Search\n",
    "\n",
    "The same as match but checks the entire string returning the first match."
   ],
   "cell_type": "markdown",
   "metadata": {}
  },
  {
   "cell_type": "code",
   "execution_count": 92,
   "metadata": {},
   "outputs": [
    {
     "output_type": "stream",
     "name": "stdout",
     "text": [
      "<re.Match object; span=(2, 3), match='a'>\n"
     ]
    }
   ],
   "source": [
    "pattern = re.compile(r\"a\")\n",
    "\n",
    "match = pattern.search(sentence)\n",
    "\n",
    "# Print out the matches\n",
    "print(match)"
   ]
  },
  {
   "source": [
    "## Flags\n",
    "\n",
    "Makes our re patterns simpler"
   ],
   "cell_type": "markdown",
   "metadata": {}
  },
  {
   "cell_type": "code",
   "execution_count": 93,
   "metadata": {},
   "outputs": [
    {
     "output_type": "stream",
     "name": "stdout",
     "text": [
      "<re.Match object; span=(0, 5), match='Start'>\n"
     ]
    }
   ],
   "source": [
    "# Ignore case\n",
    "pattern = re.compile(r\"start\", re.IGNORECASE)\n",
    "\n",
    "match = pattern.match(sentence)\n",
    "\n",
    "# Print out the matches\n",
    "print(match)"
   ]
  }
 ],
 "metadata": {
  "language_info": {
   "codemirror_mode": {
    "name": "ipython",
    "version": 3
   },
   "file_extension": ".py",
   "mimetype": "text/x-python",
   "name": "python",
   "nbconvert_exporter": "python",
   "pygments_lexer": "ipython3",
   "version": "3.8.6-candidate"
  },
  "orig_nbformat": 2,
  "kernelspec": {
   "name": "python38064bitecc165589fa7447ca9bd7a9976cf07ea",
   "display_name": "Python 3.8.0 64-bit"
  }
 },
 "nbformat": 4,
 "nbformat_minor": 2
}